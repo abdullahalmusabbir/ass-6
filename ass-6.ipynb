{
 "cells": [
  {
   "cell_type": "code",
   "execution_count": 117,
   "metadata": {},
   "outputs": [],
   "source": [
    "import pandas as pd\n",
    "import numpy as np\n",
    "import seaborn as sns\n",
    "import matplotlib.pyplot as plt\n",
    "import warnings\n",
    "warnings.filterwarnings('ignore')"
   ]
  },
  {
   "cell_type": "code",
   "execution_count": 118,
   "metadata": {},
   "outputs": [],
   "source": [
    "df = pd.read_csv('new Churn.csv')"
   ]
  },
  {
   "cell_type": "code",
   "execution_count": 119,
   "metadata": {},
   "outputs": [
    {
     "data": {
      "text/html": [
       "<div>\n",
       "<style scoped>\n",
       "    .dataframe tbody tr th:only-of-type {\n",
       "        vertical-align: middle;\n",
       "    }\n",
       "\n",
       "    .dataframe tbody tr th {\n",
       "        vertical-align: top;\n",
       "    }\n",
       "\n",
       "    .dataframe thead th {\n",
       "        text-align: right;\n",
       "    }\n",
       "</style>\n",
       "<table border=\"1\" class=\"dataframe\">\n",
       "  <thead>\n",
       "    <tr style=\"text-align: right;\">\n",
       "      <th></th>\n",
       "      <th>Unnamed: 0</th>\n",
       "      <th>gender</th>\n",
       "      <th>SeniorCitizen</th>\n",
       "      <th>Partner</th>\n",
       "      <th>Dependents</th>\n",
       "      <th>tenure</th>\n",
       "      <th>PhoneService</th>\n",
       "      <th>MultipleLines</th>\n",
       "      <th>InternetService</th>\n",
       "      <th>OnlineSecurity</th>\n",
       "      <th>...</th>\n",
       "      <th>DeviceProtection</th>\n",
       "      <th>TechSupport</th>\n",
       "      <th>StreamingTV</th>\n",
       "      <th>StreamingMovies</th>\n",
       "      <th>Contract</th>\n",
       "      <th>PaperlessBilling</th>\n",
       "      <th>PaymentMethod</th>\n",
       "      <th>MonthlyCharges</th>\n",
       "      <th>TotalCharges</th>\n",
       "      <th>Churn</th>\n",
       "    </tr>\n",
       "  </thead>\n",
       "  <tbody>\n",
       "    <tr>\n",
       "      <th>0</th>\n",
       "      <td>6607</td>\n",
       "      <td>1</td>\n",
       "      <td>0</td>\n",
       "      <td>0</td>\n",
       "      <td>1</td>\n",
       "      <td>1</td>\n",
       "      <td>0</td>\n",
       "      <td>1</td>\n",
       "      <td>0</td>\n",
       "      <td>0</td>\n",
       "      <td>...</td>\n",
       "      <td>0</td>\n",
       "      <td>0</td>\n",
       "      <td>0</td>\n",
       "      <td>0</td>\n",
       "      <td>0</td>\n",
       "      <td>1</td>\n",
       "      <td>2</td>\n",
       "      <td>25.30</td>\n",
       "      <td>2153</td>\n",
       "      <td>1</td>\n",
       "    </tr>\n",
       "    <tr>\n",
       "      <th>1</th>\n",
       "      <td>2598</td>\n",
       "      <td>0</td>\n",
       "      <td>0</td>\n",
       "      <td>0</td>\n",
       "      <td>0</td>\n",
       "      <td>7</td>\n",
       "      <td>1</td>\n",
       "      <td>0</td>\n",
       "      <td>1</td>\n",
       "      <td>0</td>\n",
       "      <td>...</td>\n",
       "      <td>2</td>\n",
       "      <td>0</td>\n",
       "      <td>0</td>\n",
       "      <td>0</td>\n",
       "      <td>0</td>\n",
       "      <td>1</td>\n",
       "      <td>2</td>\n",
       "      <td>75.15</td>\n",
       "      <td>4396</td>\n",
       "      <td>0</td>\n",
       "    </tr>\n",
       "    <tr>\n",
       "      <th>2</th>\n",
       "      <td>2345</td>\n",
       "      <td>0</td>\n",
       "      <td>0</td>\n",
       "      <td>0</td>\n",
       "      <td>1</td>\n",
       "      <td>4</td>\n",
       "      <td>1</td>\n",
       "      <td>0</td>\n",
       "      <td>2</td>\n",
       "      <td>1</td>\n",
       "      <td>...</td>\n",
       "      <td>1</td>\n",
       "      <td>1</td>\n",
       "      <td>1</td>\n",
       "      <td>1</td>\n",
       "      <td>0</td>\n",
       "      <td>1</td>\n",
       "      <td>0</td>\n",
       "      <td>20.05</td>\n",
       "      <td>6211</td>\n",
       "      <td>0</td>\n",
       "    </tr>\n",
       "    <tr>\n",
       "      <th>3</th>\n",
       "      <td>4093</td>\n",
       "      <td>0</td>\n",
       "      <td>0</td>\n",
       "      <td>0</td>\n",
       "      <td>0</td>\n",
       "      <td>29</td>\n",
       "      <td>1</td>\n",
       "      <td>2</td>\n",
       "      <td>1</td>\n",
       "      <td>0</td>\n",
       "      <td>...</td>\n",
       "      <td>0</td>\n",
       "      <td>0</td>\n",
       "      <td>0</td>\n",
       "      <td>0</td>\n",
       "      <td>0</td>\n",
       "      <td>1</td>\n",
       "      <td>1</td>\n",
       "      <td>76.00</td>\n",
       "      <td>1850</td>\n",
       "      <td>0</td>\n",
       "    </tr>\n",
       "    <tr>\n",
       "      <th>4</th>\n",
       "      <td>693</td>\n",
       "      <td>0</td>\n",
       "      <td>0</td>\n",
       "      <td>0</td>\n",
       "      <td>0</td>\n",
       "      <td>3</td>\n",
       "      <td>1</td>\n",
       "      <td>2</td>\n",
       "      <td>1</td>\n",
       "      <td>0</td>\n",
       "      <td>...</td>\n",
       "      <td>0</td>\n",
       "      <td>0</td>\n",
       "      <td>0</td>\n",
       "      <td>0</td>\n",
       "      <td>0</td>\n",
       "      <td>1</td>\n",
       "      <td>1</td>\n",
       "      <td>75.10</td>\n",
       "      <td>2350</td>\n",
       "      <td>1</td>\n",
       "    </tr>\n",
       "  </tbody>\n",
       "</table>\n",
       "<p>5 rows × 21 columns</p>\n",
       "</div>"
      ],
      "text/plain": [
       "   Unnamed: 0  gender  SeniorCitizen  Partner  Dependents  tenure  \\\n",
       "0        6607       1              0        0           1       1   \n",
       "1        2598       0              0        0           0       7   \n",
       "2        2345       0              0        0           1       4   \n",
       "3        4093       0              0        0           0      29   \n",
       "4         693       0              0        0           0       3   \n",
       "\n",
       "   PhoneService  MultipleLines  InternetService  OnlineSecurity  ...  \\\n",
       "0             0              1                0               0  ...   \n",
       "1             1              0                1               0  ...   \n",
       "2             1              0                2               1  ...   \n",
       "3             1              2                1               0  ...   \n",
       "4             1              2                1               0  ...   \n",
       "\n",
       "   DeviceProtection  TechSupport  StreamingTV  StreamingMovies  Contract  \\\n",
       "0                 0            0            0                0         0   \n",
       "1                 2            0            0                0         0   \n",
       "2                 1            1            1                1         0   \n",
       "3                 0            0            0                0         0   \n",
       "4                 0            0            0                0         0   \n",
       "\n",
       "   PaperlessBilling  PaymentMethod  MonthlyCharges  TotalCharges  Churn  \n",
       "0                 1              2           25.30          2153      1  \n",
       "1                 1              2           75.15          4396      0  \n",
       "2                 1              0           20.05          6211      0  \n",
       "3                 1              1           76.00          1850      0  \n",
       "4                 1              1           75.10          2350      1  \n",
       "\n",
       "[5 rows x 21 columns]"
      ]
     },
     "execution_count": 119,
     "metadata": {},
     "output_type": "execute_result"
    }
   ],
   "source": [
    "df.head()"
   ]
  },
  {
   "cell_type": "code",
   "execution_count": 120,
   "metadata": {},
   "outputs": [],
   "source": [
    "df1 = df.copy()"
   ]
  },
  {
   "cell_type": "code",
   "execution_count": 121,
   "metadata": {},
   "outputs": [
    {
     "data": {
      "text/plain": [
       "Unnamed: 0          0\n",
       "gender              0\n",
       "SeniorCitizen       0\n",
       "Partner             0\n",
       "Dependents          0\n",
       "tenure              0\n",
       "PhoneService        0\n",
       "MultipleLines       0\n",
       "InternetService     0\n",
       "OnlineSecurity      0\n",
       "OnlineBackup        0\n",
       "DeviceProtection    0\n",
       "TechSupport         0\n",
       "StreamingTV         0\n",
       "StreamingMovies     0\n",
       "Contract            0\n",
       "PaperlessBilling    0\n",
       "PaymentMethod       0\n",
       "MonthlyCharges      0\n",
       "TotalCharges        0\n",
       "Churn               0\n",
       "dtype: int64"
      ]
     },
     "execution_count": 121,
     "metadata": {},
     "output_type": "execute_result"
    }
   ],
   "source": [
    "df.isnull().sum()"
   ]
  },
  {
   "cell_type": "code",
   "execution_count": 122,
   "metadata": {},
   "outputs": [
    {
     "data": {
      "text/plain": [
       "Churn\n",
       "0    3892\n",
       "1    1390\n",
       "Name: count, dtype: int64"
      ]
     },
     "execution_count": 122,
     "metadata": {},
     "output_type": "execute_result"
    }
   ],
   "source": [
    "df['Churn'].value_counts()"
   ]
  },
  {
   "cell_type": "code",
   "execution_count": 123,
   "metadata": {},
   "outputs": [
    {
     "data": {
      "text/plain": [
       "0.2631578947368421"
      ]
     },
     "execution_count": 123,
     "metadata": {},
     "output_type": "execute_result"
    }
   ],
   "source": [
    "1390/(3892+1390)"
   ]
  },
  {
   "cell_type": "code",
   "execution_count": 184,
   "metadata": {},
   "outputs": [
    {
     "data": {
      "text/plain": [
       "<Axes: xlabel='Churn', ylabel='count'>"
      ]
     },
     "execution_count": 184,
     "metadata": {},
     "output_type": "execute_result"
    },
    {
     "data": {
      "image/png": "[encoded data removed]",
      "text/plain": [
       "<Figure size 640x480 with 1 Axes>"
      ]
     },
     "metadata": {},
     "output_type": "display_data"
    }
   ],
   "source": [
    "sns.countplot(x='Churn',data=df)"
   ]
  },
  {
   "cell_type": "code",
   "execution_count": 125,
   "metadata": {},
   "outputs": [],
   "source": [
    "df.drop_duplicates(inplace=True)"
   ]
  },
  {
   "cell_type": "code",
   "execution_count": 126,
   "metadata": {},
   "outputs": [
    {
     "data": {
      "text/plain": [
       "(5282, 21)"
      ]
     },
     "execution_count": 126,
     "metadata": {},
     "output_type": "execute_result"
    }
   ],
   "source": [
    "df.shape"
   ]
  },
  {
   "cell_type": "code",
   "execution_count": 127,
   "metadata": {},
   "outputs": [
    {
     "data": {
      "text/html": [
       "<div>\n",
       "<style scoped>\n",
       "    .dataframe tbody tr th:only-of-type {\n",
       "        vertical-align: middle;\n",
       "    }\n",
       "\n",
       "    .dataframe tbody tr th {\n",
       "        vertical-align: top;\n",
       "    }\n",
       "\n",
       "    .dataframe thead th {\n",
       "        text-align: right;\n",
       "    }\n",
       "</style>\n",
       "<table border=\"1\" class=\"dataframe\">\n",
       "  <thead>\n",
       "    <tr style=\"text-align: right;\">\n",
       "      <th></th>\n",
       "      <th>Unnamed: 0</th>\n",
       "      <th>gender</th>\n",
       "      <th>SeniorCitizen</th>\n",
       "      <th>Partner</th>\n",
       "      <th>Dependents</th>\n",
       "      <th>tenure</th>\n",
       "      <th>PhoneService</th>\n",
       "      <th>MultipleLines</th>\n",
       "      <th>InternetService</th>\n",
       "      <th>OnlineSecurity</th>\n",
       "      <th>...</th>\n",
       "      <th>DeviceProtection</th>\n",
       "      <th>TechSupport</th>\n",
       "      <th>StreamingTV</th>\n",
       "      <th>StreamingMovies</th>\n",
       "      <th>Contract</th>\n",
       "      <th>PaperlessBilling</th>\n",
       "      <th>PaymentMethod</th>\n",
       "      <th>MonthlyCharges</th>\n",
       "      <th>TotalCharges</th>\n",
       "      <th>Churn</th>\n",
       "    </tr>\n",
       "  </thead>\n",
       "  <tbody>\n",
       "    <tr>\n",
       "      <th>Unnamed: 0</th>\n",
       "      <td>1.000000</td>\n",
       "      <td>-0.000100</td>\n",
       "      <td>0.000731</td>\n",
       "      <td>-0.001294</td>\n",
       "      <td>-0.011669</td>\n",
       "      <td>0.001884</td>\n",
       "      <td>-0.034278</td>\n",
       "      <td>-0.013540</td>\n",
       "      <td>-0.018709</td>\n",
       "      <td>-0.006494</td>\n",
       "      <td>...</td>\n",
       "      <td>-0.013033</td>\n",
       "      <td>0.006410</td>\n",
       "      <td>-0.005278</td>\n",
       "      <td>-0.020546</td>\n",
       "      <td>-0.003440</td>\n",
       "      <td>0.010875</td>\n",
       "      <td>0.025083</td>\n",
       "      <td>-0.014253</td>\n",
       "      <td>0.015267</td>\n",
       "      <td>0.010374</td>\n",
       "    </tr>\n",
       "    <tr>\n",
       "      <th>gender</th>\n",
       "      <td>-0.000100</td>\n",
       "      <td>1.000000</td>\n",
       "      <td>-0.005691</td>\n",
       "      <td>-0.010143</td>\n",
       "      <td>0.011058</td>\n",
       "      <td>0.001303</td>\n",
       "      <td>-0.009706</td>\n",
       "      <td>-0.000430</td>\n",
       "      <td>-0.005294</td>\n",
       "      <td>-0.020189</td>\n",
       "      <td>...</td>\n",
       "      <td>-0.009305</td>\n",
       "      <td>-0.010619</td>\n",
       "      <td>-0.012994</td>\n",
       "      <td>-0.011420</td>\n",
       "      <td>0.000555</td>\n",
       "      <td>-0.014090</td>\n",
       "      <td>0.010188</td>\n",
       "      <td>-0.018822</td>\n",
       "      <td>-0.022718</td>\n",
       "      <td>-0.011997</td>\n",
       "    </tr>\n",
       "    <tr>\n",
       "      <th>SeniorCitizen</th>\n",
       "      <td>0.000731</td>\n",
       "      <td>-0.005691</td>\n",
       "      <td>1.000000</td>\n",
       "      <td>0.016648</td>\n",
       "      <td>-0.211271</td>\n",
       "      <td>0.006176</td>\n",
       "      <td>0.000581</td>\n",
       "      <td>0.129040</td>\n",
       "      <td>-0.040186</td>\n",
       "      <td>-0.129719</td>\n",
       "      <td>...</td>\n",
       "      <td>-0.015922</td>\n",
       "      <td>-0.151078</td>\n",
       "      <td>0.024338</td>\n",
       "      <td>0.043124</td>\n",
       "      <td>-0.151939</td>\n",
       "      <td>0.156417</td>\n",
       "      <td>-0.035050</td>\n",
       "      <td>0.219945</td>\n",
       "      <td>0.040956</td>\n",
       "      <td>0.146549</td>\n",
       "    </tr>\n",
       "    <tr>\n",
       "      <th>Partner</th>\n",
       "      <td>-0.001294</td>\n",
       "      <td>-0.010143</td>\n",
       "      <td>0.016648</td>\n",
       "      <td>1.000000</td>\n",
       "      <td>0.447629</td>\n",
       "      <td>0.382432</td>\n",
       "      <td>0.031578</td>\n",
       "      <td>0.151068</td>\n",
       "      <td>0.007205</td>\n",
       "      <td>0.159928</td>\n",
       "      <td>...</td>\n",
       "      <td>0.168815</td>\n",
       "      <td>0.132582</td>\n",
       "      <td>0.136715</td>\n",
       "      <td>0.122310</td>\n",
       "      <td>0.303243</td>\n",
       "      <td>-0.020634</td>\n",
       "      <td>-0.160535</td>\n",
       "      <td>0.105603</td>\n",
       "      <td>0.069859</td>\n",
       "      <td>-0.150053</td>\n",
       "    </tr>\n",
       "    <tr>\n",
       "      <th>Dependents</th>\n",
       "      <td>-0.011669</td>\n",
       "      <td>0.011058</td>\n",
       "      <td>-0.211271</td>\n",
       "      <td>0.447629</td>\n",
       "      <td>1.000000</td>\n",
       "      <td>0.162933</td>\n",
       "      <td>-0.005830</td>\n",
       "      <td>-0.020722</td>\n",
       "      <td>0.041972</td>\n",
       "      <td>0.157262</td>\n",
       "      <td>...</td>\n",
       "      <td>0.076783</td>\n",
       "      <td>0.137274</td>\n",
       "      <td>0.045948</td>\n",
       "      <td>0.023907</td>\n",
       "      <td>0.243080</td>\n",
       "      <td>-0.109935</td>\n",
       "      <td>-0.040414</td>\n",
       "      <td>-0.114920</td>\n",
       "      <td>-0.013196</td>\n",
       "      <td>-0.164490</td>\n",
       "    </tr>\n",
       "    <tr>\n",
       "      <th>tenure</th>\n",
       "      <td>0.001884</td>\n",
       "      <td>0.001303</td>\n",
       "      <td>0.006176</td>\n",
       "      <td>0.382432</td>\n",
       "      <td>0.162933</td>\n",
       "      <td>1.000000</td>\n",
       "      <td>0.005912</td>\n",
       "      <td>0.354790</td>\n",
       "      <td>-0.032037</td>\n",
       "      <td>0.325451</td>\n",
       "      <td>...</td>\n",
       "      <td>0.369331</td>\n",
       "      <td>0.326993</td>\n",
       "      <td>0.288135</td>\n",
       "      <td>0.301600</td>\n",
       "      <td>0.671184</td>\n",
       "      <td>0.004043</td>\n",
       "      <td>-0.360323</td>\n",
       "      <td>0.253605</td>\n",
       "      <td>0.152843</td>\n",
       "      <td>-0.345544</td>\n",
       "    </tr>\n",
       "    <tr>\n",
       "      <th>PhoneService</th>\n",
       "      <td>-0.034278</td>\n",
       "      <td>-0.009706</td>\n",
       "      <td>0.000581</td>\n",
       "      <td>0.031578</td>\n",
       "      <td>-0.005830</td>\n",
       "      <td>0.005912</td>\n",
       "      <td>1.000000</td>\n",
       "      <td>-0.016345</td>\n",
       "      <td>0.385682</td>\n",
       "      <td>-0.007874</td>\n",
       "      <td>...</td>\n",
       "      <td>0.000422</td>\n",
       "      <td>-0.006139</td>\n",
       "      <td>0.055390</td>\n",
       "      <td>0.048362</td>\n",
       "      <td>0.005342</td>\n",
       "      <td>0.014489</td>\n",
       "      <td>0.006362</td>\n",
       "      <td>0.247419</td>\n",
       "      <td>0.081045</td>\n",
       "      <td>0.010122</td>\n",
       "    </tr>\n",
       "    <tr>\n",
       "      <th>MultipleLines</th>\n",
       "      <td>-0.013540</td>\n",
       "      <td>-0.000430</td>\n",
       "      <td>0.129040</td>\n",
       "      <td>0.151068</td>\n",
       "      <td>-0.020722</td>\n",
       "      <td>0.354790</td>\n",
       "      <td>-0.016345</td>\n",
       "      <td>1.000000</td>\n",
       "      <td>-0.105796</td>\n",
       "      <td>0.006028</td>\n",
       "      <td>...</td>\n",
       "      <td>0.132798</td>\n",
       "      <td>0.019266</td>\n",
       "      <td>0.172380</td>\n",
       "      <td>0.188860</td>\n",
       "      <td>0.120023</td>\n",
       "      <td>0.172369</td>\n",
       "      <td>-0.176313</td>\n",
       "      <td>0.436398</td>\n",
       "      <td>0.118773</td>\n",
       "      <td>0.031270</td>\n",
       "    </tr>\n",
       "    <tr>\n",
       "      <th>InternetService</th>\n",
       "      <td>-0.018709</td>\n",
       "      <td>-0.005294</td>\n",
       "      <td>-0.040186</td>\n",
       "      <td>0.007205</td>\n",
       "      <td>0.041972</td>\n",
       "      <td>-0.032037</td>\n",
       "      <td>0.385682</td>\n",
       "      <td>-0.105796</td>\n",
       "      <td>1.000000</td>\n",
       "      <td>-0.027201</td>\n",
       "      <td>...</td>\n",
       "      <td>0.048320</td>\n",
       "      <td>-0.018510</td>\n",
       "      <td>0.101060</td>\n",
       "      <td>0.092672</td>\n",
       "      <td>0.097158</td>\n",
       "      <td>-0.141856</td>\n",
       "      <td>0.095054</td>\n",
       "      <td>-0.325588</td>\n",
       "      <td>-0.064748</td>\n",
       "      <td>-0.048820</td>\n",
       "    </tr>\n",
       "    <tr>\n",
       "      <th>OnlineSecurity</th>\n",
       "      <td>-0.006494</td>\n",
       "      <td>-0.020189</td>\n",
       "      <td>-0.129719</td>\n",
       "      <td>0.159928</td>\n",
       "      <td>0.157262</td>\n",
       "      <td>0.325451</td>\n",
       "      <td>-0.007874</td>\n",
       "      <td>0.006028</td>\n",
       "      <td>-0.027201</td>\n",
       "      <td>1.000000</td>\n",
       "      <td>...</td>\n",
       "      <td>0.182355</td>\n",
       "      <td>0.276510</td>\n",
       "      <td>0.057760</td>\n",
       "      <td>0.065996</td>\n",
       "      <td>0.371159</td>\n",
       "      <td>-0.146473</td>\n",
       "      <td>-0.085892</td>\n",
       "      <td>-0.049605</td>\n",
       "      <td>0.036493</td>\n",
       "      <td>-0.288926</td>\n",
       "    </tr>\n",
       "    <tr>\n",
       "      <th>OnlineBackup</th>\n",
       "      <td>-0.005515</td>\n",
       "      <td>-0.025773</td>\n",
       "      <td>-0.012166</td>\n",
       "      <td>0.166939</td>\n",
       "      <td>0.095640</td>\n",
       "      <td>0.371342</td>\n",
       "      <td>0.017500</td>\n",
       "      <td>0.134460</td>\n",
       "      <td>0.032058</td>\n",
       "      <td>0.186626</td>\n",
       "      <td>...</td>\n",
       "      <td>0.191348</td>\n",
       "      <td>0.189892</td>\n",
       "      <td>0.142882</td>\n",
       "      <td>0.151145</td>\n",
       "      <td>0.282646</td>\n",
       "      <td>-0.019611</td>\n",
       "      <td>-0.111508</td>\n",
       "      <td>0.125340</td>\n",
       "      <td>0.090223</td>\n",
       "      <td>-0.193152</td>\n",
       "    </tr>\n",
       "    <tr>\n",
       "      <th>DeviceProtection</th>\n",
       "      <td>-0.013033</td>\n",
       "      <td>-0.009305</td>\n",
       "      <td>-0.015922</td>\n",
       "      <td>0.168815</td>\n",
       "      <td>0.076783</td>\n",
       "      <td>0.369331</td>\n",
       "      <td>0.000422</td>\n",
       "      <td>0.132798</td>\n",
       "      <td>0.048320</td>\n",
       "      <td>0.182355</td>\n",
       "      <td>...</td>\n",
       "      <td>1.000000</td>\n",
       "      <td>0.247866</td>\n",
       "      <td>0.278896</td>\n",
       "      <td>0.301894</td>\n",
       "      <td>0.352138</td>\n",
       "      <td>-0.032091</td>\n",
       "      <td>-0.135513</td>\n",
       "      <td>0.162808</td>\n",
       "      <td>0.103120</td>\n",
       "      <td>-0.173138</td>\n",
       "    </tr>\n",
       "    <tr>\n",
       "      <th>TechSupport</th>\n",
       "      <td>0.006410</td>\n",
       "      <td>-0.010619</td>\n",
       "      <td>-0.151078</td>\n",
       "      <td>0.132582</td>\n",
       "      <td>0.137274</td>\n",
       "      <td>0.326993</td>\n",
       "      <td>-0.006139</td>\n",
       "      <td>0.019266</td>\n",
       "      <td>-0.018510</td>\n",
       "      <td>0.276510</td>\n",
       "      <td>...</td>\n",
       "      <td>0.247866</td>\n",
       "      <td>1.000000</td>\n",
       "      <td>0.174178</td>\n",
       "      <td>0.172420</td>\n",
       "      <td>0.428750</td>\n",
       "      <td>-0.113245</td>\n",
       "      <td>-0.097672</td>\n",
       "      <td>-0.001710</td>\n",
       "      <td>0.053532</td>\n",
       "      <td>-0.274718</td>\n",
       "    </tr>\n",
       "    <tr>\n",
       "      <th>StreamingTV</th>\n",
       "      <td>-0.005278</td>\n",
       "      <td>-0.012994</td>\n",
       "      <td>0.024338</td>\n",
       "      <td>0.136715</td>\n",
       "      <td>0.045948</td>\n",
       "      <td>0.288135</td>\n",
       "      <td>0.055390</td>\n",
       "      <td>0.172380</td>\n",
       "      <td>0.101060</td>\n",
       "      <td>0.057760</td>\n",
       "      <td>...</td>\n",
       "      <td>0.278896</td>\n",
       "      <td>0.174178</td>\n",
       "      <td>1.000000</td>\n",
       "      <td>0.437809</td>\n",
       "      <td>0.231143</td>\n",
       "      <td>0.101389</td>\n",
       "      <td>-0.100597</td>\n",
       "      <td>0.338557</td>\n",
       "      <td>0.134112</td>\n",
       "      <td>-0.043920</td>\n",
       "    </tr>\n",
       "    <tr>\n",
       "      <th>StreamingMovies</th>\n",
       "      <td>-0.020546</td>\n",
       "      <td>-0.011420</td>\n",
       "      <td>0.043124</td>\n",
       "      <td>0.122310</td>\n",
       "      <td>0.023907</td>\n",
       "      <td>0.301600</td>\n",
       "      <td>0.048362</td>\n",
       "      <td>0.188860</td>\n",
       "      <td>0.092672</td>\n",
       "      <td>0.065996</td>\n",
       "      <td>...</td>\n",
       "      <td>0.301894</td>\n",
       "      <td>0.172420</td>\n",
       "      <td>0.437809</td>\n",
       "      <td>1.000000</td>\n",
       "      <td>0.236128</td>\n",
       "      <td>0.075255</td>\n",
       "      <td>-0.114956</td>\n",
       "      <td>0.339162</td>\n",
       "      <td>0.150553</td>\n",
       "      <td>-0.038240</td>\n",
       "    </tr>\n",
       "    <tr>\n",
       "      <th>Contract</th>\n",
       "      <td>-0.003440</td>\n",
       "      <td>0.000555</td>\n",
       "      <td>-0.151939</td>\n",
       "      <td>0.303243</td>\n",
       "      <td>0.243080</td>\n",
       "      <td>0.671184</td>\n",
       "      <td>0.005342</td>\n",
       "      <td>0.120023</td>\n",
       "      <td>0.097158</td>\n",
       "      <td>0.371159</td>\n",
       "      <td>...</td>\n",
       "      <td>0.352138</td>\n",
       "      <td>0.428750</td>\n",
       "      <td>0.231143</td>\n",
       "      <td>0.236128</td>\n",
       "      <td>1.000000</td>\n",
       "      <td>-0.185507</td>\n",
       "      <td>-0.218531</td>\n",
       "      <td>-0.067540</td>\n",
       "      <td>0.104879</td>\n",
       "      <td>-0.394490</td>\n",
       "    </tr>\n",
       "    <tr>\n",
       "      <th>PaperlessBilling</th>\n",
       "      <td>0.010875</td>\n",
       "      <td>-0.014090</td>\n",
       "      <td>0.156417</td>\n",
       "      <td>-0.020634</td>\n",
       "      <td>-0.109935</td>\n",
       "      <td>0.004043</td>\n",
       "      <td>0.014489</td>\n",
       "      <td>0.172369</td>\n",
       "      <td>-0.141856</td>\n",
       "      <td>-0.146473</td>\n",
       "      <td>...</td>\n",
       "      <td>-0.032091</td>\n",
       "      <td>-0.113245</td>\n",
       "      <td>0.101389</td>\n",
       "      <td>0.075255</td>\n",
       "      <td>-0.185507</td>\n",
       "      <td>1.000000</td>\n",
       "      <td>-0.063408</td>\n",
       "      <td>0.359566</td>\n",
       "      <td>0.101619</td>\n",
       "      <td>0.188793</td>\n",
       "    </tr>\n",
       "    <tr>\n",
       "      <th>PaymentMethod</th>\n",
       "      <td>0.025083</td>\n",
       "      <td>0.010188</td>\n",
       "      <td>-0.035050</td>\n",
       "      <td>-0.160535</td>\n",
       "      <td>-0.040414</td>\n",
       "      <td>-0.360323</td>\n",
       "      <td>0.006362</td>\n",
       "      <td>-0.176313</td>\n",
       "      <td>0.095054</td>\n",
       "      <td>-0.085892</td>\n",
       "      <td>...</td>\n",
       "      <td>-0.135513</td>\n",
       "      <td>-0.097672</td>\n",
       "      <td>-0.100597</td>\n",
       "      <td>-0.114956</td>\n",
       "      <td>-0.218531</td>\n",
       "      <td>-0.063408</td>\n",
       "      <td>1.000000</td>\n",
       "      <td>-0.194857</td>\n",
       "      <td>-0.056972</td>\n",
       "      <td>0.100015</td>\n",
       "    </tr>\n",
       "    <tr>\n",
       "      <th>MonthlyCharges</th>\n",
       "      <td>-0.014253</td>\n",
       "      <td>-0.018822</td>\n",
       "      <td>0.219945</td>\n",
       "      <td>0.105603</td>\n",
       "      <td>-0.114920</td>\n",
       "      <td>0.253605</td>\n",
       "      <td>0.247419</td>\n",
       "      <td>0.436398</td>\n",
       "      <td>-0.325588</td>\n",
       "      <td>-0.049605</td>\n",
       "      <td>...</td>\n",
       "      <td>0.162808</td>\n",
       "      <td>-0.001710</td>\n",
       "      <td>0.338557</td>\n",
       "      <td>0.339162</td>\n",
       "      <td>-0.067540</td>\n",
       "      <td>0.359566</td>\n",
       "      <td>-0.194857</td>\n",
       "      <td>1.000000</td>\n",
       "      <td>0.279822</td>\n",
       "      <td>0.186615</td>\n",
       "    </tr>\n",
       "    <tr>\n",
       "      <th>TotalCharges</th>\n",
       "      <td>0.015267</td>\n",
       "      <td>-0.022718</td>\n",
       "      <td>0.040956</td>\n",
       "      <td>0.069859</td>\n",
       "      <td>-0.013196</td>\n",
       "      <td>0.152843</td>\n",
       "      <td>0.081045</td>\n",
       "      <td>0.118773</td>\n",
       "      <td>-0.064748</td>\n",
       "      <td>0.036493</td>\n",
       "      <td>...</td>\n",
       "      <td>0.103120</td>\n",
       "      <td>0.053532</td>\n",
       "      <td>0.134112</td>\n",
       "      <td>0.150553</td>\n",
       "      <td>0.104879</td>\n",
       "      <td>0.101619</td>\n",
       "      <td>-0.056972</td>\n",
       "      <td>0.279822</td>\n",
       "      <td>1.000000</td>\n",
       "      <td>0.020294</td>\n",
       "    </tr>\n",
       "    <tr>\n",
       "      <th>Churn</th>\n",
       "      <td>0.010374</td>\n",
       "      <td>-0.011997</td>\n",
       "      <td>0.146549</td>\n",
       "      <td>-0.150053</td>\n",
       "      <td>-0.164490</td>\n",
       "      <td>-0.345544</td>\n",
       "      <td>0.010122</td>\n",
       "      <td>0.031270</td>\n",
       "      <td>-0.048820</td>\n",
       "      <td>-0.288926</td>\n",
       "      <td>...</td>\n",
       "      <td>-0.173138</td>\n",
       "      <td>-0.274718</td>\n",
       "      <td>-0.043920</td>\n",
       "      <td>-0.038240</td>\n",
       "      <td>-0.394490</td>\n",
       "      <td>0.188793</td>\n",
       "      <td>0.100015</td>\n",
       "      <td>0.186615</td>\n",
       "      <td>0.020294</td>\n",
       "      <td>1.000000</td>\n",
       "    </tr>\n",
       "  </tbody>\n",
       "</table>\n",
       "<p>21 rows × 21 columns</p>\n",
       "</div>"
      ],
      "text/plain": [
       "                  Unnamed: 0    gender  SeniorCitizen   Partner  Dependents  \\\n",
       "Unnamed: 0          1.000000 -0.000100       0.000731 -0.001294   -0.011669   \n",
       "gender             -0.000100  1.000000      -0.005691 -0.010143    0.011058   \n",
       "SeniorCitizen       0.000731 -0.005691       1.000000  0.016648   -0.211271   \n",
       "Partner            -0.001294 -0.010143       0.016648  1.000000    0.447629   \n",
       "Dependents         -0.011669  0.011058      -0.211271  0.447629    1.000000   \n",
       "tenure              0.001884  0.001303       0.006176  0.382432    0.162933   \n",
       "PhoneService       -0.034278 -0.009706       0.000581  0.031578   -0.005830   \n",
       "MultipleLines      -0.013540 -0.000430       0.129040  0.151068   -0.020722   \n",
       "InternetService    -0.018709 -0.005294      -0.040186  0.007205    0.041972   \n",
       "OnlineSecurity     -0.006494 -0.020189      -0.129719  0.159928    0.157262   \n",
       "OnlineBackup       -0.005515 -0.025773      -0.012166  0.166939    0.095640   \n",
       "DeviceProtection   -0.013033 -0.009305      -0.015922  0.168815    0.076783   \n",
       "TechSupport         0.006410 -0.010619      -0.151078  0.132582    0.137274   \n",
       "StreamingTV        -0.005278 -0.012994       0.024338  0.136715    0.045948   \n",
       "StreamingMovies    -0.020546 -0.011420       0.043124  0.122310    0.023907   \n",
       "Contract           -0.003440  0.000555      -0.151939  0.303243    0.243080   \n",
       "PaperlessBilling    0.010875 -0.014090       0.156417 -0.020634   -0.109935   \n",
       "PaymentMethod       0.025083  0.010188      -0.035050 -0.160535   -0.040414   \n",
       "MonthlyCharges     -0.014253 -0.018822       0.219945  0.105603   -0.114920   \n",
       "TotalCharges        0.015267 -0.022718       0.040956  0.069859   -0.013196   \n",
       "Churn               0.010374 -0.011997       0.146549 -0.150053   -0.164490   \n",
       "\n",
       "                    tenure  PhoneService  MultipleLines  InternetService  \\\n",
       "Unnamed: 0        0.001884     -0.034278      -0.013540        -0.018709   \n",
       "gender            0.001303     -0.009706      -0.000430        -0.005294   \n",
       "SeniorCitizen     0.006176      0.000581       0.129040        -0.040186   \n",
       "Partner           0.382432      0.031578       0.151068         0.007205   \n",
       "Dependents        0.162933     -0.005830      -0.020722         0.041972   \n",
       "tenure            1.000000      0.005912       0.354790        -0.032037   \n",
       "PhoneService      0.005912      1.000000      -0.016345         0.385682   \n",
       "MultipleLines     0.354790     -0.016345       1.000000        -0.105796   \n",
       "InternetService  -0.032037      0.385682      -0.105796         1.000000   \n",
       "OnlineSecurity    0.325451     -0.007874       0.006028        -0.027201   \n",
       "OnlineBackup      0.371342      0.017500       0.134460         0.032058   \n",
       "DeviceProtection  0.369331      0.000422       0.132798         0.048320   \n",
       "TechSupport       0.326993     -0.006139       0.019266        -0.018510   \n",
       "StreamingTV       0.288135      0.055390       0.172380         0.101060   \n",
       "StreamingMovies   0.301600      0.048362       0.188860         0.092672   \n",
       "Contract          0.671184      0.005342       0.120023         0.097158   \n",
       "PaperlessBilling  0.004043      0.014489       0.172369        -0.141856   \n",
       "PaymentMethod    -0.360323      0.006362      -0.176313         0.095054   \n",
       "MonthlyCharges    0.253605      0.247419       0.436398        -0.325588   \n",
       "TotalCharges      0.152843      0.081045       0.118773        -0.064748   \n",
       "Churn            -0.345544      0.010122       0.031270        -0.048820   \n",
       "\n",
       "                  OnlineSecurity  ...  DeviceProtection  TechSupport  \\\n",
       "Unnamed: 0             -0.006494  ...         -0.013033     0.006410   \n",
       "gender                 -0.020189  ...         -0.009305    -0.010619   \n",
       "SeniorCitizen          -0.129719  ...         -0.015922    -0.151078   \n",
       "Partner                 0.159928  ...          0.168815     0.132582   \n",
       "Dependents              0.157262  ...          0.076783     0.137274   \n",
       "tenure                  0.325451  ...          0.369331     0.326993   \n",
       "PhoneService           -0.007874  ...          0.000422    -0.006139   \n",
       "MultipleLines           0.006028  ...          0.132798     0.019266   \n",
       "InternetService        -0.027201  ...          0.048320    -0.018510   \n",
       "OnlineSecurity          1.000000  ...          0.182355     0.276510   \n",
       "OnlineBackup            0.186626  ...          0.191348     0.189892   \n",
       "DeviceProtection        0.182355  ...          1.000000     0.247866   \n",
       "TechSupport             0.276510  ...          0.247866     1.000000   \n",
       "StreamingTV             0.057760  ...          0.278896     0.174178   \n",
       "StreamingMovies         0.065996  ...          0.301894     0.172420   \n",
       "Contract                0.371159  ...          0.352138     0.428750   \n",
       "PaperlessBilling       -0.146473  ...         -0.032091    -0.113245   \n",
       "PaymentMethod          -0.085892  ...         -0.135513    -0.097672   \n",
       "MonthlyCharges         -0.049605  ...          0.162808    -0.001710   \n",
       "TotalCharges            0.036493  ...          0.103120     0.053532   \n",
       "Churn                  -0.288926  ...         -0.173138    -0.274718   \n",
       "\n",
       "                  StreamingTV  StreamingMovies  Contract  PaperlessBilling  \\\n",
       "Unnamed: 0          -0.005278        -0.020546 -0.003440          0.010875   \n",
       "gender              -0.012994        -0.011420  0.000555         -0.014090   \n",
       "SeniorCitizen        0.024338         0.043124 -0.151939          0.156417   \n",
       "Partner              0.136715         0.122310  0.303243         -0.020634   \n",
       "Dependents           0.045948         0.023907  0.243080         -0.109935   \n",
       "tenure               0.288135         0.301600  0.671184          0.004043   \n",
       "PhoneService         0.055390         0.048362  0.005342          0.014489   \n",
       "MultipleLines        0.172380         0.188860  0.120023          0.172369   \n",
       "InternetService      0.101060         0.092672  0.097158         -0.141856   \n",
       "OnlineSecurity       0.057760         0.065996  0.371159         -0.146473   \n",
       "OnlineBackup         0.142882         0.151145  0.282646         -0.019611   \n",
       "DeviceProtection     0.278896         0.301894  0.352138         -0.032091   \n",
       "TechSupport          0.174178         0.172420  0.428750         -0.113245   \n",
       "StreamingTV          1.000000         0.437809  0.231143          0.101389   \n",
       "StreamingMovies      0.437809         1.000000  0.236128          0.075255   \n",
       "Contract             0.231143         0.236128  1.000000         -0.185507   \n",
       "PaperlessBilling     0.101389         0.075255 -0.185507          1.000000   \n",
       "PaymentMethod       -0.100597        -0.114956 -0.218531         -0.063408   \n",
       "MonthlyCharges       0.338557         0.339162 -0.067540          0.359566   \n",
       "TotalCharges         0.134112         0.150553  0.104879          0.101619   \n",
       "Churn               -0.043920        -0.038240 -0.394490          0.188793   \n",
       "\n",
       "                  PaymentMethod  MonthlyCharges  TotalCharges     Churn  \n",
       "Unnamed: 0             0.025083       -0.014253      0.015267  0.010374  \n",
       "gender                 0.010188       -0.018822     -0.022718 -0.011997  \n",
       "SeniorCitizen         -0.035050        0.219945      0.040956  0.146549  \n",
       "Partner               -0.160535        0.105603      0.069859 -0.150053  \n",
       "Dependents            -0.040414       -0.114920     -0.013196 -0.164490  \n",
       "tenure                -0.360323        0.253605      0.152843 -0.345544  \n",
       "PhoneService           0.006362        0.247419      0.081045  0.010122  \n",
       "MultipleLines         -0.176313        0.436398      0.118773  0.031270  \n",
       "InternetService        0.095054       -0.325588     -0.064748 -0.048820  \n",
       "OnlineSecurity        -0.085892       -0.049605      0.036493 -0.288926  \n",
       "OnlineBackup          -0.111508        0.125340      0.090223 -0.193152  \n",
       "DeviceProtection      -0.135513        0.162808      0.103120 -0.173138  \n",
       "TechSupport           -0.097672       -0.001710      0.053532 -0.274718  \n",
       "StreamingTV           -0.100597        0.338557      0.134112 -0.043920  \n",
       "StreamingMovies       -0.114956        0.339162      0.150553 -0.038240  \n",
       "Contract              -0.218531       -0.067540      0.104879 -0.394490  \n",
       "PaperlessBilling      -0.063408        0.359566      0.101619  0.188793  \n",
       "PaymentMethod          1.000000       -0.194857     -0.056972  0.100015  \n",
       "MonthlyCharges        -0.194857        1.000000      0.279822  0.186615  \n",
       "TotalCharges          -0.056972        0.279822      1.000000  0.020294  \n",
       "Churn                  0.100015        0.186615      0.020294  1.000000  \n",
       "\n",
       "[21 rows x 21 columns]"
      ]
     },
     "execution_count": 127,
     "metadata": {},
     "output_type": "execute_result"
    }
   ],
   "source": [
    "df.corr()"
   ]
  },
  {
   "cell_type": "code",
   "execution_count": 128,
   "metadata": {},
   "outputs": [
    {
     "data": {
      "text/plain": [
       "<Axes: >"
      ]
     },
     "execution_count": 128,
     "metadata": {},
     "output_type": "execute_result"
    },
    {
     "data": {
      "image/png": "[encoded data removed]",
      "text/plain": [
       "<Figure size 1200x1200 with 2 Axes>"
      ]
     },
     "metadata": {},
     "output_type": "display_data"
    }
   ],
   "source": [
    "plt.figure(figsize=(12,12))\n",
    "sns.heatmap(df.corr(),annot=True)"
   ]
  },
  {
   "cell_type": "code",
   "execution_count": 129,
   "metadata": {},
   "outputs": [
    {
     "data": {
      "text/plain": [
       "<Axes: xlabel='gender', ylabel='count'>"
      ]
     },
     "execution_count": 129,
     "metadata": {},
     "output_type": "execute_result"
    },
    {
     "data": {
      "image/png": "[encoded data removed]",
      "text/plain": [
       "<Figure size 640x480 with 1 Axes>"
      ]
     },
     "metadata": {},
     "output_type": "display_data"
    }
   ],
   "source": [
    "sns.countplot(x='gender',hue='Churn',data=df)"
   ]
  },
  {
   "cell_type": "code",
   "execution_count": 130,
   "metadata": {},
   "outputs": [
    {
     "data": {
      "text/plain": [
       "PhoneService\n",
       "1    4773\n",
       "0     509\n",
       "Name: count, dtype: int64"
      ]
     },
     "execution_count": 130,
     "metadata": {},
     "output_type": "execute_result"
    }
   ],
   "source": [
    "df['PhoneService'].value_counts()"
   ]
  },
  {
   "attachments": {},
   "cell_type": "markdown",
   "metadata": {},
   "source": [
    "Preprocess The Dataset"
   ]
  },
  {
   "cell_type": "code",
   "execution_count": 131,
   "metadata": {},
   "outputs": [],
   "source": [
    "df.drop('Unnamed: 0',axis=1,inplace=True)"
   ]
  },
  {
   "cell_type": "code",
   "execution_count": 132,
   "metadata": {},
   "outputs": [
    {
     "data": {
      "text/plain": [
       "(5282, 20)"
      ]
     },
     "execution_count": 132,
     "metadata": {},
     "output_type": "execute_result"
    }
   ],
   "source": [
    "df.shape"
   ]
  },
  {
   "cell_type": "code",
   "execution_count": 133,
   "metadata": {},
   "outputs": [
    {
     "data": {
      "text/html": [
       "<div>\n",
       "<style scoped>\n",
       "    .dataframe tbody tr th:only-of-type {\n",
       "        vertical-align: middle;\n",
       "    }\n",
       "\n",
       "    .dataframe tbody tr th {\n",
       "        vertical-align: top;\n",
       "    }\n",
       "\n",
       "    .dataframe thead th {\n",
       "        text-align: right;\n",
       "    }\n",
       "</style>\n",
       "<table border=\"1\" class=\"dataframe\">\n",
       "  <thead>\n",
       "    <tr style=\"text-align: right;\">\n",
       "      <th></th>\n",
       "      <th>gender</th>\n",
       "      <th>SeniorCitizen</th>\n",
       "      <th>Partner</th>\n",
       "      <th>Dependents</th>\n",
       "      <th>tenure</th>\n",
       "      <th>PhoneService</th>\n",
       "      <th>MultipleLines</th>\n",
       "      <th>InternetService</th>\n",
       "      <th>OnlineSecurity</th>\n",
       "      <th>OnlineBackup</th>\n",
       "      <th>DeviceProtection</th>\n",
       "      <th>TechSupport</th>\n",
       "      <th>StreamingTV</th>\n",
       "      <th>StreamingMovies</th>\n",
       "      <th>Contract</th>\n",
       "      <th>PaperlessBilling</th>\n",
       "      <th>PaymentMethod</th>\n",
       "      <th>MonthlyCharges</th>\n",
       "      <th>TotalCharges</th>\n",
       "      <th>Churn</th>\n",
       "    </tr>\n",
       "  </thead>\n",
       "  <tbody>\n",
       "    <tr>\n",
       "      <th>0</th>\n",
       "      <td>1</td>\n",
       "      <td>0</td>\n",
       "      <td>0</td>\n",
       "      <td>1</td>\n",
       "      <td>1</td>\n",
       "      <td>0</td>\n",
       "      <td>1</td>\n",
       "      <td>0</td>\n",
       "      <td>0</td>\n",
       "      <td>0</td>\n",
       "      <td>0</td>\n",
       "      <td>0</td>\n",
       "      <td>0</td>\n",
       "      <td>0</td>\n",
       "      <td>0</td>\n",
       "      <td>1</td>\n",
       "      <td>2</td>\n",
       "      <td>25.30</td>\n",
       "      <td>2153</td>\n",
       "      <td>1</td>\n",
       "    </tr>\n",
       "    <tr>\n",
       "      <th>1</th>\n",
       "      <td>0</td>\n",
       "      <td>0</td>\n",
       "      <td>0</td>\n",
       "      <td>0</td>\n",
       "      <td>7</td>\n",
       "      <td>1</td>\n",
       "      <td>0</td>\n",
       "      <td>1</td>\n",
       "      <td>0</td>\n",
       "      <td>0</td>\n",
       "      <td>2</td>\n",
       "      <td>0</td>\n",
       "      <td>0</td>\n",
       "      <td>0</td>\n",
       "      <td>0</td>\n",
       "      <td>1</td>\n",
       "      <td>2</td>\n",
       "      <td>75.15</td>\n",
       "      <td>4396</td>\n",
       "      <td>0</td>\n",
       "    </tr>\n",
       "    <tr>\n",
       "      <th>2</th>\n",
       "      <td>0</td>\n",
       "      <td>0</td>\n",
       "      <td>0</td>\n",
       "      <td>1</td>\n",
       "      <td>4</td>\n",
       "      <td>1</td>\n",
       "      <td>0</td>\n",
       "      <td>2</td>\n",
       "      <td>1</td>\n",
       "      <td>1</td>\n",
       "      <td>1</td>\n",
       "      <td>1</td>\n",
       "      <td>1</td>\n",
       "      <td>1</td>\n",
       "      <td>0</td>\n",
       "      <td>1</td>\n",
       "      <td>0</td>\n",
       "      <td>20.05</td>\n",
       "      <td>6211</td>\n",
       "      <td>0</td>\n",
       "    </tr>\n",
       "    <tr>\n",
       "      <th>3</th>\n",
       "      <td>0</td>\n",
       "      <td>0</td>\n",
       "      <td>0</td>\n",
       "      <td>0</td>\n",
       "      <td>29</td>\n",
       "      <td>1</td>\n",
       "      <td>2</td>\n",
       "      <td>1</td>\n",
       "      <td>0</td>\n",
       "      <td>0</td>\n",
       "      <td>0</td>\n",
       "      <td>0</td>\n",
       "      <td>0</td>\n",
       "      <td>0</td>\n",
       "      <td>0</td>\n",
       "      <td>1</td>\n",
       "      <td>1</td>\n",
       "      <td>76.00</td>\n",
       "      <td>1850</td>\n",
       "      <td>0</td>\n",
       "    </tr>\n",
       "    <tr>\n",
       "      <th>4</th>\n",
       "      <td>0</td>\n",
       "      <td>0</td>\n",
       "      <td>0</td>\n",
       "      <td>0</td>\n",
       "      <td>3</td>\n",
       "      <td>1</td>\n",
       "      <td>2</td>\n",
       "      <td>1</td>\n",
       "      <td>0</td>\n",
       "      <td>0</td>\n",
       "      <td>0</td>\n",
       "      <td>0</td>\n",
       "      <td>0</td>\n",
       "      <td>0</td>\n",
       "      <td>0</td>\n",
       "      <td>1</td>\n",
       "      <td>1</td>\n",
       "      <td>75.10</td>\n",
       "      <td>2350</td>\n",
       "      <td>1</td>\n",
       "    </tr>\n",
       "  </tbody>\n",
       "</table>\n",
       "</div>"
      ],
      "text/plain": [
       "   gender  SeniorCitizen  Partner  Dependents  tenure  PhoneService  \\\n",
       "0       1              0        0           1       1             0   \n",
       "1       0              0        0           0       7             1   \n",
       "2       0              0        0           1       4             1   \n",
       "3       0              0        0           0      29             1   \n",
       "4       0              0        0           0       3             1   \n",
       "\n",
       "   MultipleLines  InternetService  OnlineSecurity  OnlineBackup  \\\n",
       "0              1                0               0             0   \n",
       "1              0                1               0             0   \n",
       "2              0                2               1             1   \n",
       "3              2                1               0             0   \n",
       "4              2                1               0             0   \n",
       "\n",
       "   DeviceProtection  TechSupport  StreamingTV  StreamingMovies  Contract  \\\n",
       "0                 0            0            0                0         0   \n",
       "1                 2            0            0                0         0   \n",
       "2                 1            1            1                1         0   \n",
       "3                 0            0            0                0         0   \n",
       "4                 0            0            0                0         0   \n",
       "\n",
       "   PaperlessBilling  PaymentMethod  MonthlyCharges  TotalCharges  Churn  \n",
       "0                 1              2           25.30          2153      1  \n",
       "1                 1              2           75.15          4396      0  \n",
       "2                 1              0           20.05          6211      0  \n",
       "3                 1              1           76.00          1850      0  \n",
       "4                 1              1           75.10          2350      1  "
      ]
     },
     "execution_count": 133,
     "metadata": {},
     "output_type": "execute_result"
    }
   ],
   "source": [
    "df.head()"
   ]
  },
  {
   "cell_type": "code",
   "execution_count": 134,
   "metadata": {},
   "outputs": [],
   "source": [
    "x = df.drop('Churn',axis=1)"
   ]
  },
  {
   "cell_type": "code",
   "execution_count": 135,
   "metadata": {},
   "outputs": [],
   "source": [
    "y= df[['Churn']]"
   ]
  },
  {
   "cell_type": "code",
   "execution_count": 136,
   "metadata": {},
   "outputs": [
    {
     "data": {
      "text/html": [
       "<div>\n",
       "<style scoped>\n",
       "    .dataframe tbody tr th:only-of-type {\n",
       "        vertical-align: middle;\n",
       "    }\n",
       "\n",
       "    .dataframe tbody tr th {\n",
       "        vertical-align: top;\n",
       "    }\n",
       "\n",
       "    .dataframe thead th {\n",
       "        text-align: right;\n",
       "    }\n",
       "</style>\n",
       "<table border=\"1\" class=\"dataframe\">\n",
       "  <thead>\n",
       "    <tr style=\"text-align: right;\">\n",
       "      <th></th>\n",
       "      <th>gender</th>\n",
       "      <th>SeniorCitizen</th>\n",
       "      <th>Partner</th>\n",
       "      <th>Dependents</th>\n",
       "      <th>tenure</th>\n",
       "      <th>PhoneService</th>\n",
       "      <th>MultipleLines</th>\n",
       "      <th>InternetService</th>\n",
       "      <th>OnlineSecurity</th>\n",
       "      <th>OnlineBackup</th>\n",
       "      <th>DeviceProtection</th>\n",
       "      <th>TechSupport</th>\n",
       "      <th>StreamingTV</th>\n",
       "      <th>StreamingMovies</th>\n",
       "      <th>Contract</th>\n",
       "      <th>PaperlessBilling</th>\n",
       "      <th>PaymentMethod</th>\n",
       "      <th>MonthlyCharges</th>\n",
       "      <th>TotalCharges</th>\n",
       "    </tr>\n",
       "  </thead>\n",
       "  <tbody>\n",
       "    <tr>\n",
       "      <th>0</th>\n",
       "      <td>1</td>\n",
       "      <td>0</td>\n",
       "      <td>0</td>\n",
       "      <td>1</td>\n",
       "      <td>1</td>\n",
       "      <td>0</td>\n",
       "      <td>1</td>\n",
       "      <td>0</td>\n",
       "      <td>0</td>\n",
       "      <td>0</td>\n",
       "      <td>0</td>\n",
       "      <td>0</td>\n",
       "      <td>0</td>\n",
       "      <td>0</td>\n",
       "      <td>0</td>\n",
       "      <td>1</td>\n",
       "      <td>2</td>\n",
       "      <td>25.30</td>\n",
       "      <td>2153</td>\n",
       "    </tr>\n",
       "    <tr>\n",
       "      <th>1</th>\n",
       "      <td>0</td>\n",
       "      <td>0</td>\n",
       "      <td>0</td>\n",
       "      <td>0</td>\n",
       "      <td>7</td>\n",
       "      <td>1</td>\n",
       "      <td>0</td>\n",
       "      <td>1</td>\n",
       "      <td>0</td>\n",
       "      <td>0</td>\n",
       "      <td>2</td>\n",
       "      <td>0</td>\n",
       "      <td>0</td>\n",
       "      <td>0</td>\n",
       "      <td>0</td>\n",
       "      <td>1</td>\n",
       "      <td>2</td>\n",
       "      <td>75.15</td>\n",
       "      <td>4396</td>\n",
       "    </tr>\n",
       "    <tr>\n",
       "      <th>2</th>\n",
       "      <td>0</td>\n",
       "      <td>0</td>\n",
       "      <td>0</td>\n",
       "      <td>1</td>\n",
       "      <td>4</td>\n",
       "      <td>1</td>\n",
       "      <td>0</td>\n",
       "      <td>2</td>\n",
       "      <td>1</td>\n",
       "      <td>1</td>\n",
       "      <td>1</td>\n",
       "      <td>1</td>\n",
       "      <td>1</td>\n",
       "      <td>1</td>\n",
       "      <td>0</td>\n",
       "      <td>1</td>\n",
       "      <td>0</td>\n",
       "      <td>20.05</td>\n",
       "      <td>6211</td>\n",
       "    </tr>\n",
       "    <tr>\n",
       "      <th>3</th>\n",
       "      <td>0</td>\n",
       "      <td>0</td>\n",
       "      <td>0</td>\n",
       "      <td>0</td>\n",
       "      <td>29</td>\n",
       "      <td>1</td>\n",
       "      <td>2</td>\n",
       "      <td>1</td>\n",
       "      <td>0</td>\n",
       "      <td>0</td>\n",
       "      <td>0</td>\n",
       "      <td>0</td>\n",
       "      <td>0</td>\n",
       "      <td>0</td>\n",
       "      <td>0</td>\n",
       "      <td>1</td>\n",
       "      <td>1</td>\n",
       "      <td>76.00</td>\n",
       "      <td>1850</td>\n",
       "    </tr>\n",
       "    <tr>\n",
       "      <th>4</th>\n",
       "      <td>0</td>\n",
       "      <td>0</td>\n",
       "      <td>0</td>\n",
       "      <td>0</td>\n",
       "      <td>3</td>\n",
       "      <td>1</td>\n",
       "      <td>2</td>\n",
       "      <td>1</td>\n",
       "      <td>0</td>\n",
       "      <td>0</td>\n",
       "      <td>0</td>\n",
       "      <td>0</td>\n",
       "      <td>0</td>\n",
       "      <td>0</td>\n",
       "      <td>0</td>\n",
       "      <td>1</td>\n",
       "      <td>1</td>\n",
       "      <td>75.10</td>\n",
       "      <td>2350</td>\n",
       "    </tr>\n",
       "  </tbody>\n",
       "</table>\n",
       "</div>"
      ],
      "text/plain": [
       "   gender  SeniorCitizen  Partner  Dependents  tenure  PhoneService  \\\n",
       "0       1              0        0           1       1             0   \n",
       "1       0              0        0           0       7             1   \n",
       "2       0              0        0           1       4             1   \n",
       "3       0              0        0           0      29             1   \n",
       "4       0              0        0           0       3             1   \n",
       "\n",
       "   MultipleLines  InternetService  OnlineSecurity  OnlineBackup  \\\n",
       "0              1                0               0             0   \n",
       "1              0                1               0             0   \n",
       "2              0                2               1             1   \n",
       "3              2                1               0             0   \n",
       "4              2                1               0             0   \n",
       "\n",
       "   DeviceProtection  TechSupport  StreamingTV  StreamingMovies  Contract  \\\n",
       "0                 0            0            0                0         0   \n",
       "1                 2            0            0                0         0   \n",
       "2                 1            1            1                1         0   \n",
       "3                 0            0            0                0         0   \n",
       "4                 0            0            0                0         0   \n",
       "\n",
       "   PaperlessBilling  PaymentMethod  MonthlyCharges  TotalCharges  \n",
       "0                 1              2           25.30          2153  \n",
       "1                 1              2           75.15          4396  \n",
       "2                 1              0           20.05          6211  \n",
       "3                 1              1           76.00          1850  \n",
       "4                 1              1           75.10          2350  "
      ]
     },
     "execution_count": 136,
     "metadata": {},
     "output_type": "execute_result"
    }
   ],
   "source": [
    "x.head()"
   ]
  },
  {
   "cell_type": "code",
   "execution_count": 137,
   "metadata": {},
   "outputs": [
    {
     "data": {
      "text/plain": [
       "(5282, 19)"
      ]
     },
     "execution_count": 137,
     "metadata": {},
     "output_type": "execute_result"
    }
   ],
   "source": [
    "x.shape"
   ]
  },
  {
   "cell_type": "code",
   "execution_count": 138,
   "metadata": {},
   "outputs": [
    {
     "data": {
      "text/html": [
       "<div>\n",
       "<style scoped>\n",
       "    .dataframe tbody tr th:only-of-type {\n",
       "        vertical-align: middle;\n",
       "    }\n",
       "\n",
       "    .dataframe tbody tr th {\n",
       "        vertical-align: top;\n",
       "    }\n",
       "\n",
       "    .dataframe thead th {\n",
       "        text-align: right;\n",
       "    }\n",
       "</style>\n",
       "<table border=\"1\" class=\"dataframe\">\n",
       "  <thead>\n",
       "    <tr style=\"text-align: right;\">\n",
       "      <th></th>\n",
       "      <th>Churn</th>\n",
       "    </tr>\n",
       "  </thead>\n",
       "  <tbody>\n",
       "    <tr>\n",
       "      <th>0</th>\n",
       "      <td>1</td>\n",
       "    </tr>\n",
       "    <tr>\n",
       "      <th>1</th>\n",
       "      <td>0</td>\n",
       "    </tr>\n",
       "    <tr>\n",
       "      <th>2</th>\n",
       "      <td>0</td>\n",
       "    </tr>\n",
       "    <tr>\n",
       "      <th>3</th>\n",
       "      <td>0</td>\n",
       "    </tr>\n",
       "    <tr>\n",
       "      <th>4</th>\n",
       "      <td>1</td>\n",
       "    </tr>\n",
       "  </tbody>\n",
       "</table>\n",
       "</div>"
      ],
      "text/plain": [
       "   Churn\n",
       "0      1\n",
       "1      0\n",
       "2      0\n",
       "3      0\n",
       "4      1"
      ]
     },
     "execution_count": 138,
     "metadata": {},
     "output_type": "execute_result"
    }
   ],
   "source": [
    "y.head()"
   ]
  },
  {
   "cell_type": "code",
   "execution_count": 139,
   "metadata": {},
   "outputs": [
    {
     "data": {
      "text/plain": [
       "Churn\n",
       "0    3892\n",
       "1    1390\n",
       "Name: count, dtype: int64"
      ]
     },
     "execution_count": 139,
     "metadata": {},
     "output_type": "execute_result"
    }
   ],
   "source": [
    "df.Churn.value_counts()"
   ]
  },
  {
   "cell_type": "code",
   "execution_count": 140,
   "metadata": {},
   "outputs": [],
   "source": [
    "not_churned = (3892/(3892+1390))*100\n",
    "churned = (1390/(3892+1390))*100"
   ]
  },
  {
   "cell_type": "code",
   "execution_count": 141,
   "metadata": {},
   "outputs": [
    {
     "name": "stdout",
     "output_type": "stream",
     "text": [
      "Not Churned 73.68421052631578 percent of total people\n",
      "Churned 26.31578947368421 percent of total people\n"
     ]
    }
   ],
   "source": [
    "print('Not Churned {} percent of total people'.format(not_churned))\n",
    "print('Churned {} percent of total people'.format(churned))"
   ]
  },
  {
   "attachments": {},
   "cell_type": "markdown",
   "metadata": {},
   "source": [
    "Synthetic Minority OverSampling Technique(SMOTE)"
   ]
  },
  {
   "cell_type": "code",
   "execution_count": 142,
   "metadata": {},
   "outputs": [],
   "source": [
    "from imblearn.combine import SMOTETomek\n",
    "sm = SMOTETomek(random_state=44)"
   ]
  },
  {
   "cell_type": "code",
   "execution_count": 143,
   "metadata": {},
   "outputs": [
    {
     "data": {
      "text/plain": [
       "Churn\n",
       "0        3892\n",
       "1        1390\n",
       "Name: count, dtype: int64"
      ]
     },
     "execution_count": 143,
     "metadata": {},
     "output_type": "execute_result"
    }
   ],
   "source": [
    "y.value_counts()"
   ]
  },
  {
   "cell_type": "code",
   "execution_count": 144,
   "metadata": {},
   "outputs": [],
   "source": [
    "X,Y = sm.fit_resample(x,y)"
   ]
  },
  {
   "cell_type": "code",
   "execution_count": 145,
   "metadata": {},
   "outputs": [
    {
     "data": {
      "text/plain": [
       "Churn\n",
       "0        3603\n",
       "1        3603\n",
       "Name: count, dtype: int64"
      ]
     },
     "execution_count": 145,
     "metadata": {},
     "output_type": "execute_result"
    }
   ],
   "source": [
    "Y.value_counts()"
   ]
  },
  {
   "attachments": {},
   "cell_type": "markdown",
   "metadata": {},
   "source": [
    "Near miss For Under Sampling"
   ]
  },
  {
   "cell_type": "code",
   "execution_count": 146,
   "metadata": {},
   "outputs": [],
   "source": [
    "from imblearn.under_sampling import NearMiss"
   ]
  },
  {
   "cell_type": "code",
   "execution_count": 147,
   "metadata": {},
   "outputs": [],
   "source": [
    "nm = NearMiss()\n",
    "new_x, new_y = nm.fit_resample(x,y)"
   ]
  },
  {
   "cell_type": "code",
   "execution_count": 148,
   "metadata": {},
   "outputs": [
    {
     "data": {
      "text/plain": [
       "Churn\n",
       "0        1390\n",
       "1        1390\n",
       "Name: count, dtype: int64"
      ]
     },
     "execution_count": 148,
     "metadata": {},
     "output_type": "execute_result"
    }
   ],
   "source": [
    "new_y.value_counts()"
   ]
  },
  {
   "attachments": {},
   "cell_type": "markdown",
   "metadata": {},
   "source": [
    "Over sampling"
   ]
  },
  {
   "cell_type": "code",
   "execution_count": 149,
   "metadata": {},
   "outputs": [
    {
     "data": {
      "text/html": [
       "<div>\n",
       "<style scoped>\n",
       "    .dataframe tbody tr th:only-of-type {\n",
       "        vertical-align: middle;\n",
       "    }\n",
       "\n",
       "    .dataframe tbody tr th {\n",
       "        vertical-align: top;\n",
       "    }\n",
       "\n",
       "    .dataframe thead th {\n",
       "        text-align: right;\n",
       "    }\n",
       "</style>\n",
       "<table border=\"1\" class=\"dataframe\">\n",
       "  <thead>\n",
       "    <tr style=\"text-align: right;\">\n",
       "      <th></th>\n",
       "      <th>Unnamed: 0</th>\n",
       "      <th>gender</th>\n",
       "      <th>SeniorCitizen</th>\n",
       "      <th>Partner</th>\n",
       "      <th>Dependents</th>\n",
       "      <th>tenure</th>\n",
       "      <th>PhoneService</th>\n",
       "      <th>MultipleLines</th>\n",
       "      <th>InternetService</th>\n",
       "      <th>OnlineSecurity</th>\n",
       "      <th>...</th>\n",
       "      <th>DeviceProtection</th>\n",
       "      <th>TechSupport</th>\n",
       "      <th>StreamingTV</th>\n",
       "      <th>StreamingMovies</th>\n",
       "      <th>Contract</th>\n",
       "      <th>PaperlessBilling</th>\n",
       "      <th>PaymentMethod</th>\n",
       "      <th>MonthlyCharges</th>\n",
       "      <th>TotalCharges</th>\n",
       "      <th>Churn</th>\n",
       "    </tr>\n",
       "  </thead>\n",
       "  <tbody>\n",
       "    <tr>\n",
       "      <th>0</th>\n",
       "      <td>6607</td>\n",
       "      <td>1</td>\n",
       "      <td>0</td>\n",
       "      <td>0</td>\n",
       "      <td>1</td>\n",
       "      <td>1</td>\n",
       "      <td>0</td>\n",
       "      <td>1</td>\n",
       "      <td>0</td>\n",
       "      <td>0</td>\n",
       "      <td>...</td>\n",
       "      <td>0</td>\n",
       "      <td>0</td>\n",
       "      <td>0</td>\n",
       "      <td>0</td>\n",
       "      <td>0</td>\n",
       "      <td>1</td>\n",
       "      <td>2</td>\n",
       "      <td>25.30</td>\n",
       "      <td>2153</td>\n",
       "      <td>1</td>\n",
       "    </tr>\n",
       "    <tr>\n",
       "      <th>1</th>\n",
       "      <td>2598</td>\n",
       "      <td>0</td>\n",
       "      <td>0</td>\n",
       "      <td>0</td>\n",
       "      <td>0</td>\n",
       "      <td>7</td>\n",
       "      <td>1</td>\n",
       "      <td>0</td>\n",
       "      <td>1</td>\n",
       "      <td>0</td>\n",
       "      <td>...</td>\n",
       "      <td>2</td>\n",
       "      <td>0</td>\n",
       "      <td>0</td>\n",
       "      <td>0</td>\n",
       "      <td>0</td>\n",
       "      <td>1</td>\n",
       "      <td>2</td>\n",
       "      <td>75.15</td>\n",
       "      <td>4396</td>\n",
       "      <td>0</td>\n",
       "    </tr>\n",
       "    <tr>\n",
       "      <th>2</th>\n",
       "      <td>2345</td>\n",
       "      <td>0</td>\n",
       "      <td>0</td>\n",
       "      <td>0</td>\n",
       "      <td>1</td>\n",
       "      <td>4</td>\n",
       "      <td>1</td>\n",
       "      <td>0</td>\n",
       "      <td>2</td>\n",
       "      <td>1</td>\n",
       "      <td>...</td>\n",
       "      <td>1</td>\n",
       "      <td>1</td>\n",
       "      <td>1</td>\n",
       "      <td>1</td>\n",
       "      <td>0</td>\n",
       "      <td>1</td>\n",
       "      <td>0</td>\n",
       "      <td>20.05</td>\n",
       "      <td>6211</td>\n",
       "      <td>0</td>\n",
       "    </tr>\n",
       "    <tr>\n",
       "      <th>3</th>\n",
       "      <td>4093</td>\n",
       "      <td>0</td>\n",
       "      <td>0</td>\n",
       "      <td>0</td>\n",
       "      <td>0</td>\n",
       "      <td>29</td>\n",
       "      <td>1</td>\n",
       "      <td>2</td>\n",
       "      <td>1</td>\n",
       "      <td>0</td>\n",
       "      <td>...</td>\n",
       "      <td>0</td>\n",
       "      <td>0</td>\n",
       "      <td>0</td>\n",
       "      <td>0</td>\n",
       "      <td>0</td>\n",
       "      <td>1</td>\n",
       "      <td>1</td>\n",
       "      <td>76.00</td>\n",
       "      <td>1850</td>\n",
       "      <td>0</td>\n",
       "    </tr>\n",
       "    <tr>\n",
       "      <th>4</th>\n",
       "      <td>693</td>\n",
       "      <td>0</td>\n",
       "      <td>0</td>\n",
       "      <td>0</td>\n",
       "      <td>0</td>\n",
       "      <td>3</td>\n",
       "      <td>1</td>\n",
       "      <td>2</td>\n",
       "      <td>1</td>\n",
       "      <td>0</td>\n",
       "      <td>...</td>\n",
       "      <td>0</td>\n",
       "      <td>0</td>\n",
       "      <td>0</td>\n",
       "      <td>0</td>\n",
       "      <td>0</td>\n",
       "      <td>1</td>\n",
       "      <td>1</td>\n",
       "      <td>75.10</td>\n",
       "      <td>2350</td>\n",
       "      <td>1</td>\n",
       "    </tr>\n",
       "  </tbody>\n",
       "</table>\n",
       "<p>5 rows × 21 columns</p>\n",
       "</div>"
      ],
      "text/plain": [
       "   Unnamed: 0  gender  SeniorCitizen  Partner  Dependents  tenure  \\\n",
       "0        6607       1              0        0           1       1   \n",
       "1        2598       0              0        0           0       7   \n",
       "2        2345       0              0        0           1       4   \n",
       "3        4093       0              0        0           0      29   \n",
       "4         693       0              0        0           0       3   \n",
       "\n",
       "   PhoneService  MultipleLines  InternetService  OnlineSecurity  ...  \\\n",
       "0             0              1                0               0  ...   \n",
       "1             1              0                1               0  ...   \n",
       "2             1              0                2               1  ...   \n",
       "3             1              2                1               0  ...   \n",
       "4             1              2                1               0  ...   \n",
       "\n",
       "   DeviceProtection  TechSupport  StreamingTV  StreamingMovies  Contract  \\\n",
       "0                 0            0            0                0         0   \n",
       "1                 2            0            0                0         0   \n",
       "2                 1            1            1                1         0   \n",
       "3                 0            0            0                0         0   \n",
       "4                 0            0            0                0         0   \n",
       "\n",
       "   PaperlessBilling  PaymentMethod  MonthlyCharges  TotalCharges  Churn  \n",
       "0                 1              2           25.30          2153      1  \n",
       "1                 1              2           75.15          4396      0  \n",
       "2                 1              0           20.05          6211      0  \n",
       "3                 1              1           76.00          1850      0  \n",
       "4                 1              1           75.10          2350      1  \n",
       "\n",
       "[5 rows x 21 columns]"
      ]
     },
     "execution_count": 149,
     "metadata": {},
     "output_type": "execute_result"
    }
   ],
   "source": [
    "df1.head()"
   ]
  },
  {
   "cell_type": "code",
   "execution_count": 150,
   "metadata": {},
   "outputs": [
    {
     "data": {
      "text/plain": [
       "Churn\n",
       "0    3892\n",
       "1    1390\n",
       "Name: count, dtype: int64"
      ]
     },
     "execution_count": 150,
     "metadata": {},
     "output_type": "execute_result"
    }
   ],
   "source": [
    "df1.Churn.value_counts()"
   ]
  },
  {
   "cell_type": "code",
   "execution_count": 151,
   "metadata": {},
   "outputs": [],
   "source": [
    "from imblearn.over_sampling import RandomOverSampler"
   ]
  },
  {
   "cell_type": "code",
   "execution_count": 152,
   "metadata": {},
   "outputs": [],
   "source": [
    "over = RandomOverSampler(random_state=44)\n",
    "x_new, y_new = over.fit_resample(x,y)"
   ]
  },
  {
   "cell_type": "code",
   "execution_count": 153,
   "metadata": {},
   "outputs": [
    {
     "data": {
      "text/plain": [
       "Churn\n",
       "0        3892\n",
       "1        3892\n",
       "Name: count, dtype: int64"
      ]
     },
     "execution_count": 153,
     "metadata": {},
     "output_type": "execute_result"
    }
   ],
   "source": [
    "y_new.value_counts()"
   ]
  },
  {
   "attachments": {},
   "cell_type": "markdown",
   "metadata": {},
   "source": [
    "Hold Out Cross Validation"
   ]
  },
  {
   "cell_type": "code",
   "execution_count": 154,
   "metadata": {},
   "outputs": [],
   "source": [
    "from sklearn.model_selection import train_test_split as tts"
   ]
  },
  {
   "cell_type": "code",
   "execution_count": 155,
   "metadata": {},
   "outputs": [],
   "source": [
    "xtrain,xtest,ytrain,ytest = tts(x_new,y_new,random_state=42)\n",
    "xtrain.to_csv('why.csv')"
   ]
  },
  {
   "cell_type": "code",
   "execution_count": 156,
   "metadata": {},
   "outputs": [
    {
     "data": {
      "text/html": [
       "<div>\n",
       "<style scoped>\n",
       "    .dataframe tbody tr th:only-of-type {\n",
       "        vertical-align: middle;\n",
       "    }\n",
       "\n",
       "    .dataframe tbody tr th {\n",
       "        vertical-align: top;\n",
       "    }\n",
       "\n",
       "    .dataframe thead th {\n",
       "        text-align: right;\n",
       "    }\n",
       "</style>\n",
       "<table border=\"1\" class=\"dataframe\">\n",
       "  <thead>\n",
       "    <tr style=\"text-align: right;\">\n",
       "      <th></th>\n",
       "      <th>gender</th>\n",
       "      <th>SeniorCitizen</th>\n",
       "      <th>Partner</th>\n",
       "      <th>Dependents</th>\n",
       "      <th>tenure</th>\n",
       "      <th>PhoneService</th>\n",
       "      <th>MultipleLines</th>\n",
       "      <th>InternetService</th>\n",
       "      <th>OnlineSecurity</th>\n",
       "      <th>OnlineBackup</th>\n",
       "      <th>DeviceProtection</th>\n",
       "      <th>TechSupport</th>\n",
       "      <th>StreamingTV</th>\n",
       "      <th>StreamingMovies</th>\n",
       "      <th>Contract</th>\n",
       "      <th>PaperlessBilling</th>\n",
       "      <th>PaymentMethod</th>\n",
       "      <th>MonthlyCharges</th>\n",
       "      <th>TotalCharges</th>\n",
       "      <th>Churn</th>\n",
       "    </tr>\n",
       "  </thead>\n",
       "  <tbody>\n",
       "    <tr>\n",
       "      <th>1764</th>\n",
       "      <td>1</td>\n",
       "      <td>0</td>\n",
       "      <td>0</td>\n",
       "      <td>0</td>\n",
       "      <td>24</td>\n",
       "      <td>1</td>\n",
       "      <td>0</td>\n",
       "      <td>1</td>\n",
       "      <td>0</td>\n",
       "      <td>0</td>\n",
       "      <td>0</td>\n",
       "      <td>0</td>\n",
       "      <td>0</td>\n",
       "      <td>2</td>\n",
       "      <td>0</td>\n",
       "      <td>1</td>\n",
       "      <td>1</td>\n",
       "      <td>79.85</td>\n",
       "      <td>1628</td>\n",
       "      <td>0</td>\n",
       "    </tr>\n",
       "    <tr>\n",
       "      <th>5160</th>\n",
       "      <td>1</td>\n",
       "      <td>0</td>\n",
       "      <td>0</td>\n",
       "      <td>0</td>\n",
       "      <td>69</td>\n",
       "      <td>1</td>\n",
       "      <td>2</td>\n",
       "      <td>1</td>\n",
       "      <td>0</td>\n",
       "      <td>2</td>\n",
       "      <td>0</td>\n",
       "      <td>2</td>\n",
       "      <td>2</td>\n",
       "      <td>2</td>\n",
       "      <td>1</td>\n",
       "      <td>1</td>\n",
       "      <td>0</td>\n",
       "      <td>104.70</td>\n",
       "      <td>5630</td>\n",
       "      <td>1</td>\n",
       "    </tr>\n",
       "    <tr>\n",
       "      <th>3571</th>\n",
       "      <td>0</td>\n",
       "      <td>0</td>\n",
       "      <td>0</td>\n",
       "      <td>0</td>\n",
       "      <td>7</td>\n",
       "      <td>1</td>\n",
       "      <td>0</td>\n",
       "      <td>2</td>\n",
       "      <td>1</td>\n",
       "      <td>1</td>\n",
       "      <td>1</td>\n",
       "      <td>1</td>\n",
       "      <td>1</td>\n",
       "      <td>1</td>\n",
       "      <td>0</td>\n",
       "      <td>0</td>\n",
       "      <td>3</td>\n",
       "      <td>20.65</td>\n",
       "      <td>989</td>\n",
       "      <td>0</td>\n",
       "    </tr>\n",
       "    <tr>\n",
       "      <th>1268</th>\n",
       "      <td>1</td>\n",
       "      <td>1</td>\n",
       "      <td>1</td>\n",
       "      <td>0</td>\n",
       "      <td>59</td>\n",
       "      <td>0</td>\n",
       "      <td>1</td>\n",
       "      <td>0</td>\n",
       "      <td>0</td>\n",
       "      <td>2</td>\n",
       "      <td>0</td>\n",
       "      <td>0</td>\n",
       "      <td>2</td>\n",
       "      <td>2</td>\n",
       "      <td>0</td>\n",
       "      <td>1</td>\n",
       "      <td>2</td>\n",
       "      <td>50.25</td>\n",
       "      <td>2590</td>\n",
       "      <td>0</td>\n",
       "    </tr>\n",
       "    <tr>\n",
       "      <th>4064</th>\n",
       "      <td>1</td>\n",
       "      <td>0</td>\n",
       "      <td>1</td>\n",
       "      <td>0</td>\n",
       "      <td>8</td>\n",
       "      <td>1</td>\n",
       "      <td>0</td>\n",
       "      <td>2</td>\n",
       "      <td>1</td>\n",
       "      <td>1</td>\n",
       "      <td>1</td>\n",
       "      <td>1</td>\n",
       "      <td>1</td>\n",
       "      <td>1</td>\n",
       "      <td>0</td>\n",
       "      <td>0</td>\n",
       "      <td>3</td>\n",
       "      <td>20.25</td>\n",
       "      <td>1029</td>\n",
       "      <td>0</td>\n",
       "    </tr>\n",
       "  </tbody>\n",
       "</table>\n",
       "</div>"
      ],
      "text/plain": [
       "      gender  SeniorCitizen  Partner  Dependents  tenure  PhoneService  \\\n",
       "1764       1              0        0           0      24             1   \n",
       "5160       1              0        0           0      69             1   \n",
       "3571       0              0        0           0       7             1   \n",
       "1268       1              1        1           0      59             0   \n",
       "4064       1              0        1           0       8             1   \n",
       "\n",
       "      MultipleLines  InternetService  OnlineSecurity  OnlineBackup  \\\n",
       "1764              0                1               0             0   \n",
       "5160              2                1               0             2   \n",
       "3571              0                2               1             1   \n",
       "1268              1                0               0             2   \n",
       "4064              0                2               1             1   \n",
       "\n",
       "      DeviceProtection  TechSupport  StreamingTV  StreamingMovies  Contract  \\\n",
       "1764                 0            0            0                2         0   \n",
       "5160                 0            2            2                2         1   \n",
       "3571                 1            1            1                1         0   \n",
       "1268                 0            0            2                2         0   \n",
       "4064                 1            1            1                1         0   \n",
       "\n",
       "      PaperlessBilling  PaymentMethod  MonthlyCharges  TotalCharges  Churn  \n",
       "1764                 1              1           79.85          1628      0  \n",
       "5160                 1              0          104.70          5630      1  \n",
       "3571                 0              3           20.65           989      0  \n",
       "1268                 1              2           50.25          2590      0  \n",
       "4064                 0              3           20.25          1029      0  "
      ]
     },
     "execution_count": 156,
     "metadata": {},
     "output_type": "execute_result"
    }
   ],
   "source": [
    "train,test = tts(df,train_size=.8,random_state=50)\n",
    "train.head()"
   ]
  },
  {
   "cell_type": "code",
   "execution_count": 157,
   "metadata": {},
   "outputs": [
    {
     "data": {
      "text/html": [
       "<div>\n",
       "<style scoped>\n",
       "    .dataframe tbody tr th:only-of-type {\n",
       "        vertical-align: middle;\n",
       "    }\n",
       "\n",
       "    .dataframe tbody tr th {\n",
       "        vertical-align: top;\n",
       "    }\n",
       "\n",
       "    .dataframe thead th {\n",
       "        text-align: right;\n",
       "    }\n",
       "</style>\n",
       "<table border=\"1\" class=\"dataframe\">\n",
       "  <thead>\n",
       "    <tr style=\"text-align: right;\">\n",
       "      <th></th>\n",
       "      <th>gender</th>\n",
       "      <th>SeniorCitizen</th>\n",
       "      <th>Partner</th>\n",
       "      <th>Dependents</th>\n",
       "      <th>tenure</th>\n",
       "      <th>PhoneService</th>\n",
       "      <th>MultipleLines</th>\n",
       "      <th>InternetService</th>\n",
       "      <th>OnlineSecurity</th>\n",
       "      <th>OnlineBackup</th>\n",
       "      <th>DeviceProtection</th>\n",
       "      <th>TechSupport</th>\n",
       "      <th>StreamingTV</th>\n",
       "      <th>StreamingMovies</th>\n",
       "      <th>Contract</th>\n",
       "      <th>PaperlessBilling</th>\n",
       "      <th>PaymentMethod</th>\n",
       "      <th>MonthlyCharges</th>\n",
       "      <th>TotalCharges</th>\n",
       "      <th>Churn</th>\n",
       "    </tr>\n",
       "  </thead>\n",
       "  <tbody>\n",
       "    <tr>\n",
       "      <th>2273</th>\n",
       "      <td>1</td>\n",
       "      <td>0</td>\n",
       "      <td>1</td>\n",
       "      <td>1</td>\n",
       "      <td>36</td>\n",
       "      <td>0</td>\n",
       "      <td>1</td>\n",
       "      <td>0</td>\n",
       "      <td>2</td>\n",
       "      <td>0</td>\n",
       "      <td>2</td>\n",
       "      <td>2</td>\n",
       "      <td>2</td>\n",
       "      <td>2</td>\n",
       "      <td>1</td>\n",
       "      <td>0</td>\n",
       "      <td>1</td>\n",
       "      <td>60.70</td>\n",
       "      <td>1868</td>\n",
       "      <td>0</td>\n",
       "    </tr>\n",
       "    <tr>\n",
       "      <th>2802</th>\n",
       "      <td>0</td>\n",
       "      <td>0</td>\n",
       "      <td>1</td>\n",
       "      <td>1</td>\n",
       "      <td>24</td>\n",
       "      <td>1</td>\n",
       "      <td>0</td>\n",
       "      <td>2</td>\n",
       "      <td>1</td>\n",
       "      <td>1</td>\n",
       "      <td>1</td>\n",
       "      <td>1</td>\n",
       "      <td>1</td>\n",
       "      <td>1</td>\n",
       "      <td>1</td>\n",
       "      <td>0</td>\n",
       "      <td>3</td>\n",
       "      <td>19.90</td>\n",
       "      <td>4455</td>\n",
       "      <td>0</td>\n",
       "    </tr>\n",
       "    <tr>\n",
       "      <th>2471</th>\n",
       "      <td>0</td>\n",
       "      <td>0</td>\n",
       "      <td>0</td>\n",
       "      <td>0</td>\n",
       "      <td>42</td>\n",
       "      <td>1</td>\n",
       "      <td>2</td>\n",
       "      <td>1</td>\n",
       "      <td>2</td>\n",
       "      <td>0</td>\n",
       "      <td>2</td>\n",
       "      <td>0</td>\n",
       "      <td>2</td>\n",
       "      <td>2</td>\n",
       "      <td>0</td>\n",
       "      <td>1</td>\n",
       "      <td>2</td>\n",
       "      <td>105.20</td>\n",
       "      <td>3752</td>\n",
       "      <td>1</td>\n",
       "    </tr>\n",
       "    <tr>\n",
       "      <th>3388</th>\n",
       "      <td>1</td>\n",
       "      <td>0</td>\n",
       "      <td>1</td>\n",
       "      <td>0</td>\n",
       "      <td>69</td>\n",
       "      <td>1</td>\n",
       "      <td>0</td>\n",
       "      <td>2</td>\n",
       "      <td>1</td>\n",
       "      <td>1</td>\n",
       "      <td>1</td>\n",
       "      <td>1</td>\n",
       "      <td>1</td>\n",
       "      <td>1</td>\n",
       "      <td>2</td>\n",
       "      <td>0</td>\n",
       "      <td>3</td>\n",
       "      <td>19.90</td>\n",
       "      <td>659</td>\n",
       "      <td>0</td>\n",
       "    </tr>\n",
       "    <tr>\n",
       "      <th>2794</th>\n",
       "      <td>0</td>\n",
       "      <td>0</td>\n",
       "      <td>0</td>\n",
       "      <td>0</td>\n",
       "      <td>65</td>\n",
       "      <td>0</td>\n",
       "      <td>1</td>\n",
       "      <td>0</td>\n",
       "      <td>2</td>\n",
       "      <td>0</td>\n",
       "      <td>2</td>\n",
       "      <td>2</td>\n",
       "      <td>2</td>\n",
       "      <td>2</td>\n",
       "      <td>2</td>\n",
       "      <td>0</td>\n",
       "      <td>1</td>\n",
       "      <td>59.95</td>\n",
       "      <td>3357</td>\n",
       "      <td>0</td>\n",
       "    </tr>\n",
       "  </tbody>\n",
       "</table>\n",
       "</div>"
      ],
      "text/plain": [
       "      gender  SeniorCitizen  Partner  Dependents  tenure  PhoneService  \\\n",
       "2273       1              0        1           1      36             0   \n",
       "2802       0              0        1           1      24             1   \n",
       "2471       0              0        0           0      42             1   \n",
       "3388       1              0        1           0      69             1   \n",
       "2794       0              0        0           0      65             0   \n",
       "\n",
       "      MultipleLines  InternetService  OnlineSecurity  OnlineBackup  \\\n",
       "2273              1                0               2             0   \n",
       "2802              0                2               1             1   \n",
       "2471              2                1               2             0   \n",
       "3388              0                2               1             1   \n",
       "2794              1                0               2             0   \n",
       "\n",
       "      DeviceProtection  TechSupport  StreamingTV  StreamingMovies  Contract  \\\n",
       "2273                 2            2            2                2         1   \n",
       "2802                 1            1            1                1         1   \n",
       "2471                 2            0            2                2         0   \n",
       "3388                 1            1            1                1         2   \n",
       "2794                 2            2            2                2         2   \n",
       "\n",
       "      PaperlessBilling  PaymentMethod  MonthlyCharges  TotalCharges  Churn  \n",
       "2273                 0              1           60.70          1868      0  \n",
       "2802                 0              3           19.90          4455      0  \n",
       "2471                 1              2          105.20          3752      1  \n",
       "3388                 0              3           19.90           659      0  \n",
       "2794                 0              1           59.95          3357      0  "
      ]
     },
     "execution_count": 157,
     "metadata": {},
     "output_type": "execute_result"
    }
   ],
   "source": [
    "test.head()"
   ]
  },
  {
   "cell_type": "code",
   "execution_count": 158,
   "metadata": {},
   "outputs": [
    {
     "data": {
      "text/html": [
       "<style>#sk-container-id-5 {color: black;background-color: white;}#sk-container-id-5 pre{padding: 0;}#sk-container-id-5 div.sk-toggleable {background-color: white;}#sk-container-id-5 label.sk-toggleable__label {cursor: pointer;display: block;width: 100%;margin-bottom: 0;padding: 0.3em;box-sizing: border-box;text-align: center;}#sk-container-id-5 label.sk-toggleable__label-arrow:before {content: \"▸\";float: left;margin-right: 0.25em;color: #696969;}#sk-container-id-5 label.sk-toggleable__label-arrow:hover:before {color: black;}#sk-container-id-5 div.sk-estimator:hover label.sk-toggleable__label-arrow:before {color: black;}#sk-container-id-5 div.sk-toggleable__content {max-height: 0;max-width: 0;overflow: hidden;text-align: left;background-color: #f0f8ff;}#sk-container-id-5 div.sk-toggleable__content pre {margin: 0.2em;color: black;border-radius: 0.25em;background-color: #f0f8ff;}#sk-container-id-5 input.sk-toggleable__control:checked~div.sk-toggleable__content {max-height: 200px;max-width: 100%;overflow: auto;}#sk-container-id-5 input.sk-toggleable__control:checked~label.sk-toggleable__label-arrow:before {content: \"▾\";}#sk-container-id-5 div.sk-estimator input.sk-toggleable__control:checked~label.sk-toggleable__label {background-color: #d4ebff;}#sk-container-id-5 div.sk-label input.sk-toggleable__control:checked~label.sk-toggleable__label {background-color: #d4ebff;}#sk-container-id-5 input.sk-hidden--visually {border: 0;clip: rect(1px 1px 1px 1px);clip: rect(1px, 1px, 1px, 1px);height: 1px;margin: -1px;overflow: hidden;padding: 0;position: absolute;width: 1px;}#sk-container-id-5 div.sk-estimator {font-family: monospace;background-color: #f0f8ff;border: 1px dotted black;border-radius: 0.25em;box-sizing: border-box;margin-bottom: 0.5em;}#sk-container-id-5 div.sk-estimator:hover {background-color: #d4ebff;}#sk-container-id-5 div.sk-parallel-item::after {content: \"\";width: 100%;border-bottom: 1px solid gray;flex-grow: 1;}#sk-container-id-5 div.sk-label:hover label.sk-toggleable__label {background-color: #d4ebff;}#sk-container-id-5 div.sk-serial::before {content: \"\";position: absolute;border-left: 1px solid gray;box-sizing: border-box;top: 0;bottom: 0;left: 50%;z-index: 0;}#sk-container-id-5 div.sk-serial {display: flex;flex-direction: column;align-items: center;background-color: white;padding-right: 0.2em;padding-left: 0.2em;position: relative;}#sk-container-id-5 div.sk-item {position: relative;z-index: 1;}#sk-container-id-5 div.sk-parallel {display: flex;align-items: stretch;justify-content: center;background-color: white;position: relative;}#sk-container-id-5 div.sk-item::before, #sk-container-id-5 div.sk-parallel-item::before {content: \"\";position: absolute;border-left: 1px solid gray;box-sizing: border-box;top: 0;bottom: 0;left: 50%;z-index: -1;}#sk-container-id-5 div.sk-parallel-item {display: flex;flex-direction: column;z-index: 1;position: relative;background-color: white;}#sk-container-id-5 div.sk-parallel-item:first-child::after {align-self: flex-end;width: 50%;}#sk-container-id-5 div.sk-parallel-item:last-child::after {align-self: flex-start;width: 50%;}#sk-container-id-5 div.sk-parallel-item:only-child::after {width: 0;}#sk-container-id-5 div.sk-dashed-wrapped {border: 1px dashed gray;margin: 0 0.4em 0.5em 0.4em;box-sizing: border-box;padding-bottom: 0.4em;background-color: white;}#sk-container-id-5 div.sk-label label {font-family: monospace;font-weight: bold;display: inline-block;line-height: 1.2em;}#sk-container-id-5 div.sk-label-container {text-align: center;}#sk-container-id-5 div.sk-container {/* jupyter's `normalize.less` sets `[hidden] { display: none; }` but bootstrap.min.css set `[hidden] { display: none !important; }` so we also need the `!important` here to be able to override the default hidden behavior on the sphinx rendered scikit-learn.org. See: https://github.com/scikit-learn/scikit-learn/issues/21755 */display: inline-block !important;position: relative;}#sk-container-id-5 div.sk-text-repr-fallback {display: none;}</style><div id=\"sk-container-id-5\" class=\"sk-top-container\"><div class=\"sk-text-repr-fallback\"><pre>DecisionTreeClassifier()</pre><b>In a Jupyter environment, please rerun this cell to show the HTML representation or trust the notebook. <br />On GitHub, the HTML representation is unable to render, please try loading this page with nbviewer.org.</b></div><div class=\"sk-container\" hidden><div class=\"sk-item\"><div class=\"sk-estimator sk-toggleable\"><input class=\"sk-toggleable__control sk-hidden--visually\" id=\"sk-estimator-id-5\" type=\"checkbox\" checked><label for=\"sk-estimator-id-5\" class=\"sk-toggleable__label sk-toggleable__label-arrow\">DecisionTreeClassifier</label><div class=\"sk-toggleable__content\"><pre>DecisionTreeClassifier()</pre></div></div></div></div></div>"
      ],
      "text/plain": [
       "DecisionTreeClassifier()"
      ]
     },
     "execution_count": 158,
     "metadata": {},
     "output_type": "execute_result"
    }
   ],
   "source": [
    "from sklearn.tree import DecisionTreeClassifier\n",
    "dt = DecisionTreeClassifier()\n",
    "dt.fit(xtrain,ytrain)"
   ]
  },
  {
   "cell_type": "code",
   "execution_count": 159,
   "metadata": {},
   "outputs": [
    {
     "data": {
      "text/plain": [
       "0.8566289825282631"
      ]
     },
     "execution_count": 159,
     "metadata": {},
     "output_type": "execute_result"
    }
   ],
   "source": [
    "ws = dt.score(xtest,ytest)\n",
    "ws"
   ]
  },
  {
   "attachments": {},
   "cell_type": "markdown",
   "metadata": {},
   "source": [
    "Without Sampling"
   ]
  },
  {
   "cell_type": "code",
   "execution_count": 160,
   "metadata": {},
   "outputs": [
    {
     "data": {
      "text/plain": [
       "(5282, 19)"
      ]
     },
     "execution_count": 160,
     "metadata": {},
     "output_type": "execute_result"
    }
   ],
   "source": [
    "x.shape"
   ]
  },
  {
   "cell_type": "code",
   "execution_count": 161,
   "metadata": {},
   "outputs": [],
   "source": [
    "xtrain1,xtest1,ytrain1,ytest1 = tts(x,y,test_size=.3,random_state=42)"
   ]
  },
  {
   "cell_type": "code",
   "execution_count": 162,
   "metadata": {},
   "outputs": [
    {
     "data": {
      "text/html": [
       "<style>#sk-container-id-6 {color: black;background-color: white;}#sk-container-id-6 pre{padding: 0;}#sk-container-id-6 div.sk-toggleable {background-color: white;}#sk-container-id-6 label.sk-toggleable__label {cursor: pointer;display: block;width: 100%;margin-bottom: 0;padding: 0.3em;box-sizing: border-box;text-align: center;}#sk-container-id-6 label.sk-toggleable__label-arrow:before {content: \"▸\";float: left;margin-right: 0.25em;color: #696969;}#sk-container-id-6 label.sk-toggleable__label-arrow:hover:before {color: black;}#sk-container-id-6 div.sk-estimator:hover label.sk-toggleable__label-arrow:before {color: black;}#sk-container-id-6 div.sk-toggleable__content {max-height: 0;max-width: 0;overflow: hidden;text-align: left;background-color: #f0f8ff;}#sk-container-id-6 div.sk-toggleable__content pre {margin: 0.2em;color: black;border-radius: 0.25em;background-color: #f0f8ff;}#sk-container-id-6 input.sk-toggleable__control:checked~div.sk-toggleable__content {max-height: 200px;max-width: 100%;overflow: auto;}#sk-container-id-6 input.sk-toggleable__control:checked~label.sk-toggleable__label-arrow:before {content: \"▾\";}#sk-container-id-6 div.sk-estimator input.sk-toggleable__control:checked~label.sk-toggleable__label {background-color: #d4ebff;}#sk-container-id-6 div.sk-label input.sk-toggleable__control:checked~label.sk-toggleable__label {background-color: #d4ebff;}#sk-container-id-6 input.sk-hidden--visually {border: 0;clip: rect(1px 1px 1px 1px);clip: rect(1px, 1px, 1px, 1px);height: 1px;margin: -1px;overflow: hidden;padding: 0;position: absolute;width: 1px;}#sk-container-id-6 div.sk-estimator {font-family: monospace;background-color: #f0f8ff;border: 1px dotted black;border-radius: 0.25em;box-sizing: border-box;margin-bottom: 0.5em;}#sk-container-id-6 div.sk-estimator:hover {background-color: #d4ebff;}#sk-container-id-6 div.sk-parallel-item::after {content: \"\";width: 100%;border-bottom: 1px solid gray;flex-grow: 1;}#sk-container-id-6 div.sk-label:hover label.sk-toggleable__label {background-color: #d4ebff;}#sk-container-id-6 div.sk-serial::before {content: \"\";position: absolute;border-left: 1px solid gray;box-sizing: border-box;top: 0;bottom: 0;left: 50%;z-index: 0;}#sk-container-id-6 div.sk-serial {display: flex;flex-direction: column;align-items: center;background-color: white;padding-right: 0.2em;padding-left: 0.2em;position: relative;}#sk-container-id-6 div.sk-item {position: relative;z-index: 1;}#sk-container-id-6 div.sk-parallel {display: flex;align-items: stretch;justify-content: center;background-color: white;position: relative;}#sk-container-id-6 div.sk-item::before, #sk-container-id-6 div.sk-parallel-item::before {content: \"\";position: absolute;border-left: 1px solid gray;box-sizing: border-box;top: 0;bottom: 0;left: 50%;z-index: -1;}#sk-container-id-6 div.sk-parallel-item {display: flex;flex-direction: column;z-index: 1;position: relative;background-color: white;}#sk-container-id-6 div.sk-parallel-item:first-child::after {align-self: flex-end;width: 50%;}#sk-container-id-6 div.sk-parallel-item:last-child::after {align-self: flex-start;width: 50%;}#sk-container-id-6 div.sk-parallel-item:only-child::after {width: 0;}#sk-container-id-6 div.sk-dashed-wrapped {border: 1px dashed gray;margin: 0 0.4em 0.5em 0.4em;box-sizing: border-box;padding-bottom: 0.4em;background-color: white;}#sk-container-id-6 div.sk-label label {font-family: monospace;font-weight: bold;display: inline-block;line-height: 1.2em;}#sk-container-id-6 div.sk-label-container {text-align: center;}#sk-container-id-6 div.sk-container {/* jupyter's `normalize.less` sets `[hidden] { display: none; }` but bootstrap.min.css set `[hidden] { display: none !important; }` so we also need the `!important` here to be able to override the default hidden behavior on the sphinx rendered scikit-learn.org. See: https://github.com/scikit-learn/scikit-learn/issues/21755 */display: inline-block !important;position: relative;}#sk-container-id-6 div.sk-text-repr-fallback {display: none;}</style><div id=\"sk-container-id-6\" class=\"sk-top-container\"><div class=\"sk-text-repr-fallback\"><pre>DecisionTreeClassifier()</pre><b>In a Jupyter environment, please rerun this cell to show the HTML representation or trust the notebook. <br />On GitHub, the HTML representation is unable to render, please try loading this page with nbviewer.org.</b></div><div class=\"sk-container\" hidden><div class=\"sk-item\"><div class=\"sk-estimator sk-toggleable\"><input class=\"sk-toggleable__control sk-hidden--visually\" id=\"sk-estimator-id-6\" type=\"checkbox\" checked><label for=\"sk-estimator-id-6\" class=\"sk-toggleable__label sk-toggleable__label-arrow\">DecisionTreeClassifier</label><div class=\"sk-toggleable__content\"><pre>DecisionTreeClassifier()</pre></div></div></div></div></div>"
      ],
      "text/plain": [
       "DecisionTreeClassifier()"
      ]
     },
     "execution_count": 162,
     "metadata": {},
     "output_type": "execute_result"
    }
   ],
   "source": [
    "dt.fit(xtrain1,ytrain1)"
   ]
  },
  {
   "cell_type": "code",
   "execution_count": 163,
   "metadata": {},
   "outputs": [
    {
     "data": {
      "text/plain": [
       "0.7072555205047318"
      ]
     },
     "execution_count": 163,
     "metadata": {},
     "output_type": "execute_result"
    }
   ],
   "source": [
    "wos = dt.score(xtest1,ytest1)\n",
    "wos"
   ]
  },
  {
   "attachments": {},
   "cell_type": "markdown",
   "metadata": {},
   "source": [
    "K Fold Cross Validation"
   ]
  },
  {
   "cell_type": "code",
   "execution_count": 164,
   "metadata": {},
   "outputs": [],
   "source": [
    "from sklearn.model_selection import KFold, cross_val_score, cross_validate"
   ]
  },
  {
   "cell_type": "code",
   "execution_count": 165,
   "metadata": {},
   "outputs": [
    {
     "data": {
      "text/plain": [
       "array([0.80267215, 0.80935252, 0.8622816 , 0.99743063])"
      ]
     },
     "execution_count": 165,
     "metadata": {},
     "output_type": "execute_result"
    }
   ],
   "source": [
    "kfold = KFold(n_splits=4)\n",
    "result = cross_val_score(dt,x_new,y_new,cv=kfold)\n",
    "result"
   ]
  },
  {
   "cell_type": "code",
   "execution_count": 166,
   "metadata": {},
   "outputs": [
    {
     "data": {
      "text/plain": [
       "0.867934224049332"
      ]
     },
     "execution_count": 166,
     "metadata": {},
     "output_type": "execute_result"
    }
   ],
   "source": [
    "result.mean()"
   ]
  },
  {
   "cell_type": "code",
   "execution_count": 167,
   "metadata": {},
   "outputs": [
    {
     "data": {
      "text/plain": [
       "0.9974306269270298"
      ]
     },
     "execution_count": 167,
     "metadata": {},
     "output_type": "execute_result"
    }
   ],
   "source": [
    "result.max()"
   ]
  },
  {
   "cell_type": "code",
   "execution_count": 168,
   "metadata": {},
   "outputs": [
    {
     "data": {
      "text/plain": [
       "0.802672147995889"
      ]
     },
     "execution_count": 168,
     "metadata": {},
     "output_type": "execute_result"
    }
   ],
   "source": [
    "result.min()"
   ]
  },
  {
   "attachments": {},
   "cell_type": "markdown",
   "metadata": {},
   "source": [
    "Stratified K Fold Cross Validation"
   ]
  },
  {
   "cell_type": "code",
   "execution_count": 169,
   "metadata": {},
   "outputs": [],
   "source": [
    "from sklearn.model_selection import StratifiedKFold"
   ]
  },
  {
   "cell_type": "code",
   "execution_count": 170,
   "metadata": {},
   "outputs": [
    {
     "data": {
      "text/plain": [
       "array([0.85611511, 0.85200411, 0.89157246, 0.88386434])"
      ]
     },
     "execution_count": 170,
     "metadata": {},
     "output_type": "execute_result"
    }
   ],
   "source": [
    "st = StratifiedKFold(n_splits=4)\n",
    "score2 = cross_val_score(dt,x_new,y_new,cv=st)\n",
    "score2"
   ]
  },
  {
   "cell_type": "code",
   "execution_count": 171,
   "metadata": {},
   "outputs": [
    {
     "data": {
      "text/plain": [
       "0.8708890030832477"
      ]
     },
     "execution_count": 171,
     "metadata": {},
     "output_type": "execute_result"
    }
   ],
   "source": [
    "score2.mean()"
   ]
  },
  {
   "attachments": {},
   "cell_type": "markdown",
   "metadata": {},
   "source": [
    "Leave One Out Cross Validation"
   ]
  },
  {
   "cell_type": "code",
   "execution_count": 172,
   "metadata": {},
   "outputs": [],
   "source": [
    "from sklearn.model_selection import LeaveOneOut"
   ]
  },
  {
   "cell_type": "code",
   "execution_count": 173,
   "metadata": {},
   "outputs": [
    {
     "data": {
      "text/plain": [
       "0.8985097636176773"
      ]
     },
     "execution_count": 173,
     "metadata": {},
     "output_type": "execute_result"
    }
   ],
   "source": [
    "le = LeaveOneOut()\n",
    "result2 = cross_val_score(dt,x_new,y_new,cv=le)\n",
    "result2.mean()"
   ]
  },
  {
   "attachments": {},
   "cell_type": "markdown",
   "metadata": {},
   "source": [
    "KNN Classifier"
   ]
  },
  {
   "cell_type": "code",
   "execution_count": 174,
   "metadata": {},
   "outputs": [],
   "source": [
    "xtrain2,xtest2,ytrain2,ytest2 = tts(x,y,test_size=.3,random_state=42)"
   ]
  },
  {
   "cell_type": "code",
   "execution_count": 175,
   "metadata": {},
   "outputs": [],
   "source": [
    "from sklearn.neighbors import KNeighborsClassifier"
   ]
  },
  {
   "cell_type": "code",
   "execution_count": 176,
   "metadata": {},
   "outputs": [
    {
     "data": {
      "text/html": [
       "<style>#sk-container-id-7 {color: black;background-color: white;}#sk-container-id-7 pre{padding: 0;}#sk-container-id-7 div.sk-toggleable {background-color: white;}#sk-container-id-7 label.sk-toggleable__label {cursor: pointer;display: block;width: 100%;margin-bottom: 0;padding: 0.3em;box-sizing: border-box;text-align: center;}#sk-container-id-7 label.sk-toggleable__label-arrow:before {content: \"▸\";float: left;margin-right: 0.25em;color: #696969;}#sk-container-id-7 label.sk-toggleable__label-arrow:hover:before {color: black;}#sk-container-id-7 div.sk-estimator:hover label.sk-toggleable__label-arrow:before {color: black;}#sk-container-id-7 div.sk-toggleable__content {max-height: 0;max-width: 0;overflow: hidden;text-align: left;background-color: #f0f8ff;}#sk-container-id-7 div.sk-toggleable__content pre {margin: 0.2em;color: black;border-radius: 0.25em;background-color: #f0f8ff;}#sk-container-id-7 input.sk-toggleable__control:checked~div.sk-toggleable__content {max-height: 200px;max-width: 100%;overflow: auto;}#sk-container-id-7 input.sk-toggleable__control:checked~label.sk-toggleable__label-arrow:before {content: \"▾\";}#sk-container-id-7 div.sk-estimator input.sk-toggleable__control:checked~label.sk-toggleable__label {background-color: #d4ebff;}#sk-container-id-7 div.sk-label input.sk-toggleable__control:checked~label.sk-toggleable__label {background-color: #d4ebff;}#sk-container-id-7 input.sk-hidden--visually {border: 0;clip: rect(1px 1px 1px 1px);clip: rect(1px, 1px, 1px, 1px);height: 1px;margin: -1px;overflow: hidden;padding: 0;position: absolute;width: 1px;}#sk-container-id-7 div.sk-estimator {font-family: monospace;background-color: #f0f8ff;border: 1px dotted black;border-radius: 0.25em;box-sizing: border-box;margin-bottom: 0.5em;}#sk-container-id-7 div.sk-estimator:hover {background-color: #d4ebff;}#sk-container-id-7 div.sk-parallel-item::after {content: \"\";width: 100%;border-bottom: 1px solid gray;flex-grow: 1;}#sk-container-id-7 div.sk-label:hover label.sk-toggleable__label {background-color: #d4ebff;}#sk-container-id-7 div.sk-serial::before {content: \"\";position: absolute;border-left: 1px solid gray;box-sizing: border-box;top: 0;bottom: 0;left: 50%;z-index: 0;}#sk-container-id-7 div.sk-serial {display: flex;flex-direction: column;align-items: center;background-color: white;padding-right: 0.2em;padding-left: 0.2em;position: relative;}#sk-container-id-7 div.sk-item {position: relative;z-index: 1;}#sk-container-id-7 div.sk-parallel {display: flex;align-items: stretch;justify-content: center;background-color: white;position: relative;}#sk-container-id-7 div.sk-item::before, #sk-container-id-7 div.sk-parallel-item::before {content: \"\";position: absolute;border-left: 1px solid gray;box-sizing: border-box;top: 0;bottom: 0;left: 50%;z-index: -1;}#sk-container-id-7 div.sk-parallel-item {display: flex;flex-direction: column;z-index: 1;position: relative;background-color: white;}#sk-container-id-7 div.sk-parallel-item:first-child::after {align-self: flex-end;width: 50%;}#sk-container-id-7 div.sk-parallel-item:last-child::after {align-self: flex-start;width: 50%;}#sk-container-id-7 div.sk-parallel-item:only-child::after {width: 0;}#sk-container-id-7 div.sk-dashed-wrapped {border: 1px dashed gray;margin: 0 0.4em 0.5em 0.4em;box-sizing: border-box;padding-bottom: 0.4em;background-color: white;}#sk-container-id-7 div.sk-label label {font-family: monospace;font-weight: bold;display: inline-block;line-height: 1.2em;}#sk-container-id-7 div.sk-label-container {text-align: center;}#sk-container-id-7 div.sk-container {/* jupyter's `normalize.less` sets `[hidden] { display: none; }` but bootstrap.min.css set `[hidden] { display: none !important; }` so we also need the `!important` here to be able to override the default hidden behavior on the sphinx rendered scikit-learn.org. See: https://github.com/scikit-learn/scikit-learn/issues/21755 */display: inline-block !important;position: relative;}#sk-container-id-7 div.sk-text-repr-fallback {display: none;}</style><div id=\"sk-container-id-7\" class=\"sk-top-container\"><div class=\"sk-text-repr-fallback\"><pre>KNeighborsClassifier()</pre><b>In a Jupyter environment, please rerun this cell to show the HTML representation or trust the notebook. <br />On GitHub, the HTML representation is unable to render, please try loading this page with nbviewer.org.</b></div><div class=\"sk-container\" hidden><div class=\"sk-item\"><div class=\"sk-estimator sk-toggleable\"><input class=\"sk-toggleable__control sk-hidden--visually\" id=\"sk-estimator-id-7\" type=\"checkbox\" checked><label for=\"sk-estimator-id-7\" class=\"sk-toggleable__label sk-toggleable__label-arrow\">KNeighborsClassifier</label><div class=\"sk-toggleable__content\"><pre>KNeighborsClassifier()</pre></div></div></div></div></div>"
      ],
      "text/plain": [
       "KNeighborsClassifier()"
      ]
     },
     "execution_count": 176,
     "metadata": {},
     "output_type": "execute_result"
    }
   ],
   "source": [
    "ne = KNeighborsClassifier()\n",
    "ne.fit(xtrain2,ytrain2)"
   ]
  },
  {
   "cell_type": "code",
   "execution_count": 177,
   "metadata": {},
   "outputs": [
    {
     "data": {
      "text/plain": [
       "array([1, 1, 1, ..., 0, 0, 0], dtype=int64)"
      ]
     },
     "execution_count": 177,
     "metadata": {},
     "output_type": "execute_result"
    }
   ],
   "source": [
    "pred = ne.predict(xtest)\n",
    "pred"
   ]
  },
  {
   "cell_type": "code",
   "execution_count": 178,
   "metadata": {},
   "outputs": [],
   "source": [
    "from sklearn.metrics import accuracy_score,mean_absolute_error, mean_squared_error"
   ]
  },
  {
   "cell_type": "code",
   "execution_count": 179,
   "metadata": {},
   "outputs": [
    {
     "data": {
      "text/plain": [
       "0.6757451181911613"
      ]
     },
     "execution_count": 179,
     "metadata": {},
     "output_type": "execute_result"
    }
   ],
   "source": [
    "accuracy = accuracy_score(ytest,pred)\n",
    "accuracy"
   ]
  },
  {
   "cell_type": "code",
   "execution_count": 180,
   "metadata": {},
   "outputs": [
    {
     "data": {
      "text/plain": [
       "0.32425488180883866"
      ]
     },
     "execution_count": 180,
     "metadata": {},
     "output_type": "execute_result"
    }
   ],
   "source": [
    "mae = mean_absolute_error(ytest, pred)\n",
    "mae"
   ]
  },
  {
   "cell_type": "code",
   "execution_count": 181,
   "metadata": {},
   "outputs": [
    {
     "data": {
      "text/plain": [
       "0.32425488180883866"
      ]
     },
     "execution_count": 181,
     "metadata": {},
     "output_type": "execute_result"
    }
   ],
   "source": [
    "mse = mean_squared_error(ytest, pred)\n",
    "mse"
   ]
  },
  {
   "attachments": {},
   "cell_type": "markdown",
   "metadata": {},
   "source": [
    ".................."
   ]
  },
  {
   "cell_type": "code",
   "execution_count": 182,
   "metadata": {},
   "outputs": [
    {
     "data": {
      "text/html": [
       "<div>\n",
       "<style scoped>\n",
       "    .dataframe tbody tr th:only-of-type {\n",
       "        vertical-align: middle;\n",
       "    }\n",
       "\n",
       "    .dataframe tbody tr th {\n",
       "        vertical-align: top;\n",
       "    }\n",
       "\n",
       "    .dataframe thead th {\n",
       "        text-align: right;\n",
       "    }\n",
       "</style>\n",
       "<table border=\"1\" class=\"dataframe\">\n",
       "  <thead>\n",
       "    <tr style=\"text-align: right;\">\n",
       "      <th></th>\n",
       "      <th>Name</th>\n",
       "      <th>Data</th>\n",
       "    </tr>\n",
       "  </thead>\n",
       "  <tbody>\n",
       "    <tr>\n",
       "      <th>0</th>\n",
       "      <td>Sampling data</td>\n",
       "      <td>0.856629</td>\n",
       "    </tr>\n",
       "    <tr>\n",
       "      <th>1</th>\n",
       "      <td>without sampling data</td>\n",
       "      <td>0.707256</td>\n",
       "    </tr>\n",
       "    <tr>\n",
       "      <th>2</th>\n",
       "      <td>KNN_Accuracy</td>\n",
       "      <td>0.675745</td>\n",
       "    </tr>\n",
       "  </tbody>\n",
       "</table>\n",
       "</div>"
      ],
      "text/plain": [
       "                    Name      Data\n",
       "0          Sampling data  0.856629\n",
       "1  without sampling data  0.707256\n",
       "2           KNN_Accuracy  0.675745"
      ]
     },
     "execution_count": 182,
     "metadata": {},
     "output_type": "execute_result"
    }
   ],
   "source": [
    "data = {'Name':['Sampling data','without sampling data','KNN_Accuracy'],\n",
    "         'Data':[ws,wos,accuracy]}\n",
    "barplot = pd.DataFrame(data=data)\n",
    "barplot.head()"
   ]
  },
  {
   "cell_type": "code",
   "execution_count": 183,
   "metadata": {},
   "outputs": [
    {
     "data": {
      "text/plain": [
       "<Axes: xlabel='Data', ylabel='Name'>"
      ]
     },
     "execution_count": 183,
     "metadata": {},
     "output_type": "execute_result"
    },
    {
     "data": {
      "image/png": "[encoded data removed]",
      "text/plain": [
       "<Figure size 640x480 with 1 Axes>"
      ]
     },
     "metadata": {},
     "output_type": "display_data"
    }
   ],
   "source": [
    "sns.barplot(x='Data',y='Name',data=barplot)"
   ]
  }
 ],
 "metadata": {
  "kernelspec": {
   "display_name": "ml",
   "language": "python",
   "name": "python3"
  },
  "language_info": {
   "codemirror_mode": {
    "name": "ipython",
    "version": 3
   },
   "file_extension": ".py",
   "mimetype": "text/x-python",
   "name": "python",
   "nbconvert_exporter": "python",
   "pygments_lexer": "ipython3",
   "version": "3.10.11"
  },
  "orig_nbformat": 4
 },
 "nbformat": 4,
 "nbformat_minor": 2
}
